{
  "nbformat": 4,
  "nbformat_minor": 0,
  "metadata": {
    "colab": {
      "provenance": []
    },
    "kernelspec": {
      "name": "python3",
      "display_name": "Python 3"
    },
    "language_info": {
      "name": "python"
    }
  },
  "cells": [
    {
      "cell_type": "code",
      "execution_count": 1,
      "metadata": {
        "colab": {
          "base_uri": "https://localhost:8080/"
        },
        "id": "BFx1Ty1eZzo6",
        "outputId": "36ca94a1-2590-4c3f-b1eb-8b949a1e2185"
      },
      "outputs": [
        {
          "output_type": "stream",
          "name": "stdout",
          "text": [
            "Looking in indexes: https://pypi.org/simple, https://us-python.pkg.dev/colab-wheels/public/simple/\n",
            "Requirement already satisfied: numpy in /usr/local/lib/python3.10/dist-packages (1.22.4)\n",
            "Looking in indexes: https://pypi.org/simple, https://us-python.pkg.dev/colab-wheels/public/simple/\n",
            "Requirement already satisfied: pandas in /usr/local/lib/python3.10/dist-packages (1.5.3)\n",
            "Requirement already satisfied: pytz>=2020.1 in /usr/local/lib/python3.10/dist-packages (from pandas) (2022.7.1)\n",
            "Requirement already satisfied: numpy>=1.21.0 in /usr/local/lib/python3.10/dist-packages (from pandas) (1.22.4)\n",
            "Requirement already satisfied: python-dateutil>=2.8.1 in /usr/local/lib/python3.10/dist-packages (from pandas) (2.8.2)\n",
            "Requirement already satisfied: six>=1.5 in /usr/local/lib/python3.10/dist-packages (from python-dateutil>=2.8.1->pandas) (1.16.0)\n",
            "Looking in indexes: https://pypi.org/simple, https://us-python.pkg.dev/colab-wheels/public/simple/\n",
            "Requirement already satisfied: matplotlib in /usr/local/lib/python3.10/dist-packages (3.7.1)\n",
            "Requirement already satisfied: kiwisolver>=1.0.1 in /usr/local/lib/python3.10/dist-packages (from matplotlib) (1.4.4)\n",
            "Requirement already satisfied: contourpy>=1.0.1 in /usr/local/lib/python3.10/dist-packages (from matplotlib) (1.0.7)\n",
            "Requirement already satisfied: numpy>=1.20 in /usr/local/lib/python3.10/dist-packages (from matplotlib) (1.22.4)\n",
            "Requirement already satisfied: packaging>=20.0 in /usr/local/lib/python3.10/dist-packages (from matplotlib) (23.1)\n",
            "Requirement already satisfied: pillow>=6.2.0 in /usr/local/lib/python3.10/dist-packages (from matplotlib) (8.4.0)\n",
            "Requirement already satisfied: cycler>=0.10 in /usr/local/lib/python3.10/dist-packages (from matplotlib) (0.11.0)\n",
            "Requirement already satisfied: python-dateutil>=2.7 in /usr/local/lib/python3.10/dist-packages (from matplotlib) (2.8.2)\n",
            "Requirement already satisfied: pyparsing>=2.3.1 in /usr/local/lib/python3.10/dist-packages (from matplotlib) (3.0.9)\n",
            "Requirement already satisfied: fonttools>=4.22.0 in /usr/local/lib/python3.10/dist-packages (from matplotlib) (4.39.3)\n",
            "Requirement already satisfied: six>=1.5 in /usr/local/lib/python3.10/dist-packages (from python-dateutil>=2.7->matplotlib) (1.16.0)\n",
            "Looking in indexes: https://pypi.org/simple, https://us-python.pkg.dev/colab-wheels/public/simple/\n",
            "Requirement already satisfied: seaborn in /usr/local/lib/python3.10/dist-packages (0.12.2)\n",
            "Requirement already satisfied: numpy!=1.24.0,>=1.17 in /usr/local/lib/python3.10/dist-packages (from seaborn) (1.22.4)\n",
            "Requirement already satisfied: matplotlib!=3.6.1,>=3.1 in /usr/local/lib/python3.10/dist-packages (from seaborn) (3.7.1)\n",
            "Requirement already satisfied: pandas>=0.25 in /usr/local/lib/python3.10/dist-packages (from seaborn) (1.5.3)\n",
            "Requirement already satisfied: cycler>=0.10 in /usr/local/lib/python3.10/dist-packages (from matplotlib!=3.6.1,>=3.1->seaborn) (0.11.0)\n",
            "Requirement already satisfied: contourpy>=1.0.1 in /usr/local/lib/python3.10/dist-packages (from matplotlib!=3.6.1,>=3.1->seaborn) (1.0.7)\n",
            "Requirement already satisfied: pillow>=6.2.0 in /usr/local/lib/python3.10/dist-packages (from matplotlib!=3.6.1,>=3.1->seaborn) (8.4.0)\n",
            "Requirement already satisfied: pyparsing>=2.3.1 in /usr/local/lib/python3.10/dist-packages (from matplotlib!=3.6.1,>=3.1->seaborn) (3.0.9)\n",
            "Requirement already satisfied: kiwisolver>=1.0.1 in /usr/local/lib/python3.10/dist-packages (from matplotlib!=3.6.1,>=3.1->seaborn) (1.4.4)\n",
            "Requirement already satisfied: packaging>=20.0 in /usr/local/lib/python3.10/dist-packages (from matplotlib!=3.6.1,>=3.1->seaborn) (23.1)\n",
            "Requirement already satisfied: python-dateutil>=2.7 in /usr/local/lib/python3.10/dist-packages (from matplotlib!=3.6.1,>=3.1->seaborn) (2.8.2)\n",
            "Requirement already satisfied: fonttools>=4.22.0 in /usr/local/lib/python3.10/dist-packages (from matplotlib!=3.6.1,>=3.1->seaborn) (4.39.3)\n",
            "Requirement already satisfied: pytz>=2020.1 in /usr/local/lib/python3.10/dist-packages (from pandas>=0.25->seaborn) (2022.7.1)\n",
            "Requirement already satisfied: six>=1.5 in /usr/local/lib/python3.10/dist-packages (from python-dateutil>=2.7->matplotlib!=3.6.1,>=3.1->seaborn) (1.16.0)\n"
          ]
        }
      ],
      "source": [
        "!pip install numpy\n",
        "!pip install pandas\n",
        "!pip install --upgrade matplotlib\n",
        "!pip install --upgrade seaborn"
      ]
    },
    {
      "cell_type": "code",
      "source": [
        "%matplotlib inline\n",
        "import numpy as np\n",
        "import pandas as pd\n",
        "import matplotlib.pyplot as plt\n",
        "import seaborn as sns"
      ],
      "metadata": {
        "id": "W9QAKQmKaCON"
      },
      "execution_count": 2,
      "outputs": []
    },
    {
      "cell_type": "markdown",
      "source": [
        "### Частина друга: Аналіз файлів\n",
        "Проведіть аналіз файлу 2017_jun_final.csv. Файл містить результати опитування розробників у червні 2017 року.\n",
        "\n",
        "Необхідно виконати:\n",
        "* Прочитайте файл 2017_jun_final.csv за допомогою методу read_csv"
      ],
      "metadata": {
        "id": "uN2aIfSRaK5a"
      }
    },
    {
      "cell_type": "code",
      "source": [
        "df = pd.read_csv('/content/2017_jun_final.csv')"
      ],
      "metadata": {
        "id": "EmaRamtxaP72"
      },
      "execution_count": 10,
      "outputs": []
    },
    {
      "cell_type": "markdown",
      "source": [
        "* Прочитайте отриману таблицю, використовуючи метод head"
      ],
      "metadata": {
        "id": "yshX29xSa73x"
      }
    },
    {
      "cell_type": "code",
      "source": [
        "df.head(3)"
      ],
      "metadata": {
        "colab": {
          "base_uri": "https://localhost:8080/",
          "height": 410
        },
        "id": "tAnFZS9SaQUC",
        "outputId": "9ed4260d-5ea3-401e-b9a2-c16b51ce063b"
      },
      "execution_count": 12,
      "outputs": [
        {
          "output_type": "execute_result",
          "data": {
            "text/plain": [
              "   N           Должность Язык.программирования Специализация  \\\n",
              "0  1  Junior QA engineer                   NaN     Manual QA   \n",
              "1  2  Junior QA engineer                   NaN     Manual QA   \n",
              "2  3   Software Engineer               C#/.NET           NaN   \n",
              "\n",
              "  Общий.опыт.работы Опыт.работы.на.текущем.месте  Зарплата.в.месяц  \\\n",
              "0               0.5                          0.5               400   \n",
              "1  меньше 3 месяцев             меньше 3 месяцев               430   \n",
              "2                 4                            1              2500   \n",
              "\n",
              "   Изменение.зарплаты.за.12.месяцев    Город     Размер.компании  ...  \\\n",
              "0                                 0  Харьков       до 10 человек  ...   \n",
              "1                               130  Харьков  свыше 1000 человек  ...   \n",
              "2                               800     Киев     до 1000 человек  ...   \n",
              "\n",
              "  Еще.студент Уровень.английского                    Предметная.область  \\\n",
              "0        True       ниже среднего                         iOS,eCommerce   \n",
              "1        True       выше среднего                        Веб-разработка   \n",
              "2       False             средний  Веб-разработка,Корпоративные системы   \n",
              "\n",
              "       Дата.заполнения                                         User.Agent  \\\n",
              "0  12/06/2017 12:38:08  Mozilla/5.0 (Windows NT 10.0; Win64; x64) Appl...   \n",
              "1  12/06/2017 12:42:51  Mozilla/5.0 (iPad; CPU OS 10_2_1 like Mac OS X...   \n",
              "2  12/06/2017 13:02:47  Mozilla/5.0 (Windows NT 10.0; Win64; x64) Appl...   \n",
              "\n",
              "   exp current_job_exp salary Валюта  cls  \n",
              "0  0.5             0.5    400    NaN   QA  \n",
              "1  0.0             0.0    430    NaN   QA  \n",
              "2  4.0             1.0   2500    NaN  DEV  \n",
              "\n",
              "[3 rows x 25 columns]"
            ],
            "text/html": [
              "\n",
              "  <div id=\"df-feba9ded-f006-42ac-866c-784409b1887d\">\n",
              "    <div class=\"colab-df-container\">\n",
              "      <div>\n",
              "<style scoped>\n",
              "    .dataframe tbody tr th:only-of-type {\n",
              "        vertical-align: middle;\n",
              "    }\n",
              "\n",
              "    .dataframe tbody tr th {\n",
              "        vertical-align: top;\n",
              "    }\n",
              "\n",
              "    .dataframe thead th {\n",
              "        text-align: right;\n",
              "    }\n",
              "</style>\n",
              "<table border=\"1\" class=\"dataframe\">\n",
              "  <thead>\n",
              "    <tr style=\"text-align: right;\">\n",
              "      <th></th>\n",
              "      <th>N</th>\n",
              "      <th>Должность</th>\n",
              "      <th>Язык.программирования</th>\n",
              "      <th>Специализация</th>\n",
              "      <th>Общий.опыт.работы</th>\n",
              "      <th>Опыт.работы.на.текущем.месте</th>\n",
              "      <th>Зарплата.в.месяц</th>\n",
              "      <th>Изменение.зарплаты.за.12.месяцев</th>\n",
              "      <th>Город</th>\n",
              "      <th>Размер.компании</th>\n",
              "      <th>...</th>\n",
              "      <th>Еще.студент</th>\n",
              "      <th>Уровень.английского</th>\n",
              "      <th>Предметная.область</th>\n",
              "      <th>Дата.заполнения</th>\n",
              "      <th>User.Agent</th>\n",
              "      <th>exp</th>\n",
              "      <th>current_job_exp</th>\n",
              "      <th>salary</th>\n",
              "      <th>Валюта</th>\n",
              "      <th>cls</th>\n",
              "    </tr>\n",
              "  </thead>\n",
              "  <tbody>\n",
              "    <tr>\n",
              "      <th>0</th>\n",
              "      <td>1</td>\n",
              "      <td>Junior QA engineer</td>\n",
              "      <td>NaN</td>\n",
              "      <td>Manual QA</td>\n",
              "      <td>0.5</td>\n",
              "      <td>0.5</td>\n",
              "      <td>400</td>\n",
              "      <td>0</td>\n",
              "      <td>Харьков</td>\n",
              "      <td>до 10 человек</td>\n",
              "      <td>...</td>\n",
              "      <td>True</td>\n",
              "      <td>ниже среднего</td>\n",
              "      <td>iOS,eCommerce</td>\n",
              "      <td>12/06/2017 12:38:08</td>\n",
              "      <td>Mozilla/5.0 (Windows NT 10.0; Win64; x64) Appl...</td>\n",
              "      <td>0.5</td>\n",
              "      <td>0.5</td>\n",
              "      <td>400</td>\n",
              "      <td>NaN</td>\n",
              "      <td>QA</td>\n",
              "    </tr>\n",
              "    <tr>\n",
              "      <th>1</th>\n",
              "      <td>2</td>\n",
              "      <td>Junior QA engineer</td>\n",
              "      <td>NaN</td>\n",
              "      <td>Manual QA</td>\n",
              "      <td>меньше 3 месяцев</td>\n",
              "      <td>меньше 3 месяцев</td>\n",
              "      <td>430</td>\n",
              "      <td>130</td>\n",
              "      <td>Харьков</td>\n",
              "      <td>свыше 1000 человек</td>\n",
              "      <td>...</td>\n",
              "      <td>True</td>\n",
              "      <td>выше среднего</td>\n",
              "      <td>Веб-разработка</td>\n",
              "      <td>12/06/2017 12:42:51</td>\n",
              "      <td>Mozilla/5.0 (iPad; CPU OS 10_2_1 like Mac OS X...</td>\n",
              "      <td>0.0</td>\n",
              "      <td>0.0</td>\n",
              "      <td>430</td>\n",
              "      <td>NaN</td>\n",
              "      <td>QA</td>\n",
              "    </tr>\n",
              "    <tr>\n",
              "      <th>2</th>\n",
              "      <td>3</td>\n",
              "      <td>Software Engineer</td>\n",
              "      <td>C#/.NET</td>\n",
              "      <td>NaN</td>\n",
              "      <td>4</td>\n",
              "      <td>1</td>\n",
              "      <td>2500</td>\n",
              "      <td>800</td>\n",
              "      <td>Киев</td>\n",
              "      <td>до 1000 человек</td>\n",
              "      <td>...</td>\n",
              "      <td>False</td>\n",
              "      <td>средний</td>\n",
              "      <td>Веб-разработка,Корпоративные системы</td>\n",
              "      <td>12/06/2017 13:02:47</td>\n",
              "      <td>Mozilla/5.0 (Windows NT 10.0; Win64; x64) Appl...</td>\n",
              "      <td>4.0</td>\n",
              "      <td>1.0</td>\n",
              "      <td>2500</td>\n",
              "      <td>NaN</td>\n",
              "      <td>DEV</td>\n",
              "    </tr>\n",
              "  </tbody>\n",
              "</table>\n",
              "<p>3 rows × 25 columns</p>\n",
              "</div>\n",
              "      <button class=\"colab-df-convert\" onclick=\"convertToInteractive('df-feba9ded-f006-42ac-866c-784409b1887d')\"\n",
              "              title=\"Convert this dataframe to an interactive table.\"\n",
              "              style=\"display:none;\">\n",
              "        \n",
              "  <svg xmlns=\"http://www.w3.org/2000/svg\" height=\"24px\"viewBox=\"0 0 24 24\"\n",
              "       width=\"24px\">\n",
              "    <path d=\"M0 0h24v24H0V0z\" fill=\"none\"/>\n",
              "    <path d=\"M18.56 5.44l.94 2.06.94-2.06 2.06-.94-2.06-.94-.94-2.06-.94 2.06-2.06.94zm-11 1L8.5 8.5l.94-2.06 2.06-.94-2.06-.94L8.5 2.5l-.94 2.06-2.06.94zm10 10l.94 2.06.94-2.06 2.06-.94-2.06-.94-.94-2.06-.94 2.06-2.06.94z\"/><path d=\"M17.41 7.96l-1.37-1.37c-.4-.4-.92-.59-1.43-.59-.52 0-1.04.2-1.43.59L10.3 9.45l-7.72 7.72c-.78.78-.78 2.05 0 2.83L4 21.41c.39.39.9.59 1.41.59.51 0 1.02-.2 1.41-.59l7.78-7.78 2.81-2.81c.8-.78.8-2.07 0-2.86zM5.41 20L4 18.59l7.72-7.72 1.47 1.35L5.41 20z\"/>\n",
              "  </svg>\n",
              "      </button>\n",
              "      \n",
              "  <style>\n",
              "    .colab-df-container {\n",
              "      display:flex;\n",
              "      flex-wrap:wrap;\n",
              "      gap: 12px;\n",
              "    }\n",
              "\n",
              "    .colab-df-convert {\n",
              "      background-color: #E8F0FE;\n",
              "      border: none;\n",
              "      border-radius: 50%;\n",
              "      cursor: pointer;\n",
              "      display: none;\n",
              "      fill: #1967D2;\n",
              "      height: 32px;\n",
              "      padding: 0 0 0 0;\n",
              "      width: 32px;\n",
              "    }\n",
              "\n",
              "    .colab-df-convert:hover {\n",
              "      background-color: #E2EBFA;\n",
              "      box-shadow: 0px 1px 2px rgba(60, 64, 67, 0.3), 0px 1px 3px 1px rgba(60, 64, 67, 0.15);\n",
              "      fill: #174EA6;\n",
              "    }\n",
              "\n",
              "    [theme=dark] .colab-df-convert {\n",
              "      background-color: #3B4455;\n",
              "      fill: #D2E3FC;\n",
              "    }\n",
              "\n",
              "    [theme=dark] .colab-df-convert:hover {\n",
              "      background-color: #434B5C;\n",
              "      box-shadow: 0px 1px 3px 1px rgba(0, 0, 0, 0.15);\n",
              "      filter: drop-shadow(0px 1px 2px rgba(0, 0, 0, 0.3));\n",
              "      fill: #FFFFFF;\n",
              "    }\n",
              "  </style>\n",
              "\n",
              "      <script>\n",
              "        const buttonEl =\n",
              "          document.querySelector('#df-feba9ded-f006-42ac-866c-784409b1887d button.colab-df-convert');\n",
              "        buttonEl.style.display =\n",
              "          google.colab.kernel.accessAllowed ? 'block' : 'none';\n",
              "\n",
              "        async function convertToInteractive(key) {\n",
              "          const element = document.querySelector('#df-feba9ded-f006-42ac-866c-784409b1887d');\n",
              "          const dataTable =\n",
              "            await google.colab.kernel.invokeFunction('convertToInteractive',\n",
              "                                                     [key], {});\n",
              "          if (!dataTable) return;\n",
              "\n",
              "          const docLinkHtml = 'Like what you see? Visit the ' +\n",
              "            '<a target=\"_blank\" href=https://colab.research.google.com/notebooks/data_table.ipynb>data table notebook</a>'\n",
              "            + ' to learn more about interactive tables.';\n",
              "          element.innerHTML = '';\n",
              "          dataTable['output_type'] = 'display_data';\n",
              "          await google.colab.output.renderOutput(dataTable, element);\n",
              "          const docLink = document.createElement('div');\n",
              "          docLink.innerHTML = docLinkHtml;\n",
              "          element.appendChild(docLink);\n",
              "        }\n",
              "      </script>\n",
              "    </div>\n",
              "  </div>\n",
              "  "
            ]
          },
          "metadata": {},
          "execution_count": 12
        }
      ]
    },
    {
      "cell_type": "markdown",
      "source": [
        "* Визначте розмір таблиці за допомогою методу shape"
      ],
      "metadata": {
        "id": "Zqi6TeOJcAzu"
      }
    },
    {
      "cell_type": "code",
      "source": [
        "df.shape"
      ],
      "metadata": {
        "colab": {
          "base_uri": "https://localhost:8080/"
        },
        "id": "osCize1MaQXa",
        "outputId": "b0de5c62-87c9-4e65-b13d-21dccd0988d9"
      },
      "execution_count": 13,
      "outputs": [
        {
          "output_type": "execute_result",
          "data": {
            "text/plain": [
              "(8704, 25)"
            ]
          },
          "metadata": {},
          "execution_count": 13
        }
      ]
    },
    {
      "cell_type": "markdown",
      "source": [
        "* Визначте типи всіх стовпців за допомогою dataframe.dtypes"
      ],
      "metadata": {
        "id": "4kRAxnS5cIsI"
      }
    },
    {
      "cell_type": "code",
      "source": [
        "df.dtypes"
      ],
      "metadata": {
        "colab": {
          "base_uri": "https://localhost:8080/"
        },
        "id": "__nN_lluaQaR",
        "outputId": "9a42f138-5bec-4359-f0ac-502c2f5edccc"
      },
      "execution_count": 14,
      "outputs": [
        {
          "output_type": "execute_result",
          "data": {
            "text/plain": [
              "N                                     int64\n",
              "Должность                            object\n",
              "Язык.программирования                object\n",
              "Специализация                        object\n",
              "Общий.опыт.работы                    object\n",
              "Опыт.работы.на.текущем.месте         object\n",
              "Зарплата.в.месяц                      int64\n",
              "Изменение.зарплаты.за.12.месяцев      int64\n",
              "Город                                object\n",
              "Размер.компании                      object\n",
              "Тип.компании                         object\n",
              "Пол                                  object\n",
              "Возраст                               int64\n",
              "Образование                          object\n",
              "Университет                          object\n",
              "Еще.студент                            bool\n",
              "Уровень.английского                  object\n",
              "Предметная.область                   object\n",
              "Дата.заполнения                      object\n",
              "User.Agent                           object\n",
              "exp                                 float64\n",
              "current_job_exp                     float64\n",
              "salary                                int64\n",
              "Валюта                               object\n",
              "cls                                  object\n",
              "dtype: object"
            ]
          },
          "metadata": {},
          "execution_count": 14
        }
      ]
    },
    {
      "cell_type": "markdown",
      "source": [
        "* Порахуйте, яка частка пропусків міститься в кожній колонці (використовуйте методи isnull та sum)"
      ],
      "metadata": {
        "id": "ydiU8x09cUs5"
      }
    },
    {
      "cell_type": "code",
      "source": [
        "df.isnull().sum()"
      ],
      "metadata": {
        "colab": {
          "base_uri": "https://localhost:8080/"
        },
        "id": "DfsVfn3NaQdZ",
        "outputId": "cdf8fbbc-eb0f-44eb-8f2b-4289be1f01f0"
      },
      "execution_count": 19,
      "outputs": [
        {
          "output_type": "execute_result",
          "data": {
            "text/plain": [
              "N                                      0\n",
              "Должность                              0\n",
              "Язык.программирования               3850\n",
              "Специализация                       7219\n",
              "Общий.опыт.работы                      0\n",
              "Опыт.работы.на.текущем.месте           0\n",
              "Зарплата.в.месяц                       0\n",
              "Изменение.зарплаты.за.12.месяцев       0\n",
              "Город                                  0\n",
              "Размер.компании                        0\n",
              "Тип.компании                           0\n",
              "Пол                                    0\n",
              "Возраст                                0\n",
              "Образование                            0\n",
              "Университет                          358\n",
              "Еще.студент                            0\n",
              "Уровень.английского                    0\n",
              "Предметная.область                   223\n",
              "Дата.заполнения                        0\n",
              "User.Agent                             0\n",
              "exp                                    0\n",
              "current_job_exp                        0\n",
              "salary                                 0\n",
              "Валюта                              8694\n",
              "cls                                 1574\n",
              "dtype: int64"
            ]
          },
          "metadata": {},
          "execution_count": 19
        }
      ]
    },
    {
      "cell_type": "markdown",
      "source": [
        "* Видаліть усі стовпці з пропусками, крім стовпця \"Мова програмування\""
      ],
      "metadata": {
        "id": "N4qAv4GFfNLt"
      }
    },
    {
      "cell_type": "code",
      "source": [
        "df_clear = df.drop(['Специализация', 'Университет', 'Валюта', 'cls'], axis=1)\n",
        "df_clear.head(3)"
      ],
      "metadata": {
        "colab": {
          "base_uri": "https://localhost:8080/",
          "height": 410
        },
        "id": "m1pWlw-BaQgQ",
        "outputId": "a074e6eb-7beb-4f48-d09c-f9e40ad4ea69"
      },
      "execution_count": 20,
      "outputs": [
        {
          "output_type": "execute_result",
          "data": {
            "text/plain": [
              "   N           Должность Язык.программирования Общий.опыт.работы  \\\n",
              "0  1  Junior QA engineer                   NaN               0.5   \n",
              "1  2  Junior QA engineer                   NaN  меньше 3 месяцев   \n",
              "2  3   Software Engineer               C#/.NET                 4   \n",
              "\n",
              "  Опыт.работы.на.текущем.месте  Зарплата.в.месяц  \\\n",
              "0                          0.5               400   \n",
              "1             меньше 3 месяцев               430   \n",
              "2                            1              2500   \n",
              "\n",
              "   Изменение.зарплаты.за.12.месяцев    Город     Размер.компании  \\\n",
              "0                                 0  Харьков       до 10 человек   \n",
              "1                               130  Харьков  свыше 1000 человек   \n",
              "2                               800     Киев     до 1000 человек   \n",
              "\n",
              "     Тип.компании  ... Возраст           Образование Еще.студент  \\\n",
              "0  Аутсорсинговая  ...      20  Незаконченное высшее        True   \n",
              "1  Аутсорсинговая  ...      21  Незаконченное высшее        True   \n",
              "2  Аутсорсинговая  ...      26                Высшее       False   \n",
              "\n",
              "   Уровень.английского                    Предметная.область  \\\n",
              "0        ниже среднего                         iOS,eCommerce   \n",
              "1        выше среднего                        Веб-разработка   \n",
              "2              средний  Веб-разработка,Корпоративные системы   \n",
              "\n",
              "       Дата.заполнения                                         User.Agent  \\\n",
              "0  12/06/2017 12:38:08  Mozilla/5.0 (Windows NT 10.0; Win64; x64) Appl...   \n",
              "1  12/06/2017 12:42:51  Mozilla/5.0 (iPad; CPU OS 10_2_1 like Mac OS X...   \n",
              "2  12/06/2017 13:02:47  Mozilla/5.0 (Windows NT 10.0; Win64; x64) Appl...   \n",
              "\n",
              "   exp  current_job_exp  salary  \n",
              "0  0.5              0.5     400  \n",
              "1  0.0              0.0     430  \n",
              "2  4.0              1.0    2500  \n",
              "\n",
              "[3 rows x 21 columns]"
            ],
            "text/html": [
              "\n",
              "  <div id=\"df-560e5259-213f-4983-acb0-8fa512306f5d\">\n",
              "    <div class=\"colab-df-container\">\n",
              "      <div>\n",
              "<style scoped>\n",
              "    .dataframe tbody tr th:only-of-type {\n",
              "        vertical-align: middle;\n",
              "    }\n",
              "\n",
              "    .dataframe tbody tr th {\n",
              "        vertical-align: top;\n",
              "    }\n",
              "\n",
              "    .dataframe thead th {\n",
              "        text-align: right;\n",
              "    }\n",
              "</style>\n",
              "<table border=\"1\" class=\"dataframe\">\n",
              "  <thead>\n",
              "    <tr style=\"text-align: right;\">\n",
              "      <th></th>\n",
              "      <th>N</th>\n",
              "      <th>Должность</th>\n",
              "      <th>Язык.программирования</th>\n",
              "      <th>Общий.опыт.работы</th>\n",
              "      <th>Опыт.работы.на.текущем.месте</th>\n",
              "      <th>Зарплата.в.месяц</th>\n",
              "      <th>Изменение.зарплаты.за.12.месяцев</th>\n",
              "      <th>Город</th>\n",
              "      <th>Размер.компании</th>\n",
              "      <th>Тип.компании</th>\n",
              "      <th>...</th>\n",
              "      <th>Возраст</th>\n",
              "      <th>Образование</th>\n",
              "      <th>Еще.студент</th>\n",
              "      <th>Уровень.английского</th>\n",
              "      <th>Предметная.область</th>\n",
              "      <th>Дата.заполнения</th>\n",
              "      <th>User.Agent</th>\n",
              "      <th>exp</th>\n",
              "      <th>current_job_exp</th>\n",
              "      <th>salary</th>\n",
              "    </tr>\n",
              "  </thead>\n",
              "  <tbody>\n",
              "    <tr>\n",
              "      <th>0</th>\n",
              "      <td>1</td>\n",
              "      <td>Junior QA engineer</td>\n",
              "      <td>NaN</td>\n",
              "      <td>0.5</td>\n",
              "      <td>0.5</td>\n",
              "      <td>400</td>\n",
              "      <td>0</td>\n",
              "      <td>Харьков</td>\n",
              "      <td>до 10 человек</td>\n",
              "      <td>Аутсорсинговая</td>\n",
              "      <td>...</td>\n",
              "      <td>20</td>\n",
              "      <td>Незаконченное высшее</td>\n",
              "      <td>True</td>\n",
              "      <td>ниже среднего</td>\n",
              "      <td>iOS,eCommerce</td>\n",
              "      <td>12/06/2017 12:38:08</td>\n",
              "      <td>Mozilla/5.0 (Windows NT 10.0; Win64; x64) Appl...</td>\n",
              "      <td>0.5</td>\n",
              "      <td>0.5</td>\n",
              "      <td>400</td>\n",
              "    </tr>\n",
              "    <tr>\n",
              "      <th>1</th>\n",
              "      <td>2</td>\n",
              "      <td>Junior QA engineer</td>\n",
              "      <td>NaN</td>\n",
              "      <td>меньше 3 месяцев</td>\n",
              "      <td>меньше 3 месяцев</td>\n",
              "      <td>430</td>\n",
              "      <td>130</td>\n",
              "      <td>Харьков</td>\n",
              "      <td>свыше 1000 человек</td>\n",
              "      <td>Аутсорсинговая</td>\n",
              "      <td>...</td>\n",
              "      <td>21</td>\n",
              "      <td>Незаконченное высшее</td>\n",
              "      <td>True</td>\n",
              "      <td>выше среднего</td>\n",
              "      <td>Веб-разработка</td>\n",
              "      <td>12/06/2017 12:42:51</td>\n",
              "      <td>Mozilla/5.0 (iPad; CPU OS 10_2_1 like Mac OS X...</td>\n",
              "      <td>0.0</td>\n",
              "      <td>0.0</td>\n",
              "      <td>430</td>\n",
              "    </tr>\n",
              "    <tr>\n",
              "      <th>2</th>\n",
              "      <td>3</td>\n",
              "      <td>Software Engineer</td>\n",
              "      <td>C#/.NET</td>\n",
              "      <td>4</td>\n",
              "      <td>1</td>\n",
              "      <td>2500</td>\n",
              "      <td>800</td>\n",
              "      <td>Киев</td>\n",
              "      <td>до 1000 человек</td>\n",
              "      <td>Аутсорсинговая</td>\n",
              "      <td>...</td>\n",
              "      <td>26</td>\n",
              "      <td>Высшее</td>\n",
              "      <td>False</td>\n",
              "      <td>средний</td>\n",
              "      <td>Веб-разработка,Корпоративные системы</td>\n",
              "      <td>12/06/2017 13:02:47</td>\n",
              "      <td>Mozilla/5.0 (Windows NT 10.0; Win64; x64) Appl...</td>\n",
              "      <td>4.0</td>\n",
              "      <td>1.0</td>\n",
              "      <td>2500</td>\n",
              "    </tr>\n",
              "  </tbody>\n",
              "</table>\n",
              "<p>3 rows × 21 columns</p>\n",
              "</div>\n",
              "      <button class=\"colab-df-convert\" onclick=\"convertToInteractive('df-560e5259-213f-4983-acb0-8fa512306f5d')\"\n",
              "              title=\"Convert this dataframe to an interactive table.\"\n",
              "              style=\"display:none;\">\n",
              "        \n",
              "  <svg xmlns=\"http://www.w3.org/2000/svg\" height=\"24px\"viewBox=\"0 0 24 24\"\n",
              "       width=\"24px\">\n",
              "    <path d=\"M0 0h24v24H0V0z\" fill=\"none\"/>\n",
              "    <path d=\"M18.56 5.44l.94 2.06.94-2.06 2.06-.94-2.06-.94-.94-2.06-.94 2.06-2.06.94zm-11 1L8.5 8.5l.94-2.06 2.06-.94-2.06-.94L8.5 2.5l-.94 2.06-2.06.94zm10 10l.94 2.06.94-2.06 2.06-.94-2.06-.94-.94-2.06-.94 2.06-2.06.94z\"/><path d=\"M17.41 7.96l-1.37-1.37c-.4-.4-.92-.59-1.43-.59-.52 0-1.04.2-1.43.59L10.3 9.45l-7.72 7.72c-.78.78-.78 2.05 0 2.83L4 21.41c.39.39.9.59 1.41.59.51 0 1.02-.2 1.41-.59l7.78-7.78 2.81-2.81c.8-.78.8-2.07 0-2.86zM5.41 20L4 18.59l7.72-7.72 1.47 1.35L5.41 20z\"/>\n",
              "  </svg>\n",
              "      </button>\n",
              "      \n",
              "  <style>\n",
              "    .colab-df-container {\n",
              "      display:flex;\n",
              "      flex-wrap:wrap;\n",
              "      gap: 12px;\n",
              "    }\n",
              "\n",
              "    .colab-df-convert {\n",
              "      background-color: #E8F0FE;\n",
              "      border: none;\n",
              "      border-radius: 50%;\n",
              "      cursor: pointer;\n",
              "      display: none;\n",
              "      fill: #1967D2;\n",
              "      height: 32px;\n",
              "      padding: 0 0 0 0;\n",
              "      width: 32px;\n",
              "    }\n",
              "\n",
              "    .colab-df-convert:hover {\n",
              "      background-color: #E2EBFA;\n",
              "      box-shadow: 0px 1px 2px rgba(60, 64, 67, 0.3), 0px 1px 3px 1px rgba(60, 64, 67, 0.15);\n",
              "      fill: #174EA6;\n",
              "    }\n",
              "\n",
              "    [theme=dark] .colab-df-convert {\n",
              "      background-color: #3B4455;\n",
              "      fill: #D2E3FC;\n",
              "    }\n",
              "\n",
              "    [theme=dark] .colab-df-convert:hover {\n",
              "      background-color: #434B5C;\n",
              "      box-shadow: 0px 1px 3px 1px rgba(0, 0, 0, 0.15);\n",
              "      filter: drop-shadow(0px 1px 2px rgba(0, 0, 0, 0.3));\n",
              "      fill: #FFFFFF;\n",
              "    }\n",
              "  </style>\n",
              "\n",
              "      <script>\n",
              "        const buttonEl =\n",
              "          document.querySelector('#df-560e5259-213f-4983-acb0-8fa512306f5d button.colab-df-convert');\n",
              "        buttonEl.style.display =\n",
              "          google.colab.kernel.accessAllowed ? 'block' : 'none';\n",
              "\n",
              "        async function convertToInteractive(key) {\n",
              "          const element = document.querySelector('#df-560e5259-213f-4983-acb0-8fa512306f5d');\n",
              "          const dataTable =\n",
              "            await google.colab.kernel.invokeFunction('convertToInteractive',\n",
              "                                                     [key], {});\n",
              "          if (!dataTable) return;\n",
              "\n",
              "          const docLinkHtml = 'Like what you see? Visit the ' +\n",
              "            '<a target=\"_blank\" href=https://colab.research.google.com/notebooks/data_table.ipynb>data table notebook</a>'\n",
              "            + ' to learn more about interactive tables.';\n",
              "          element.innerHTML = '';\n",
              "          dataTable['output_type'] = 'display_data';\n",
              "          await google.colab.output.renderOutput(dataTable, element);\n",
              "          const docLink = document.createElement('div');\n",
              "          docLink.innerHTML = docLinkHtml;\n",
              "          element.appendChild(docLink);\n",
              "        }\n",
              "      </script>\n",
              "    </div>\n",
              "  </div>\n",
              "  "
            ]
          },
          "metadata": {},
          "execution_count": 20
        }
      ]
    },
    {
      "cell_type": "markdown",
      "source": [
        "* Знову порахуйте, яка частка пропусків міститься в кожній колонці і переконайтеся, що залишився тільки стовпець \"Мова.програмування\""
      ],
      "metadata": {
        "id": "Zvmm6EpsgyWr"
      }
    },
    {
      "cell_type": "code",
      "source": [
        "df_clear.isnull().sum()"
      ],
      "metadata": {
        "colab": {
          "base_uri": "https://localhost:8080/"
        },
        "id": "0_3zESVqaQjZ",
        "outputId": "2aa1afc6-54ec-4b7e-eb9b-dcb221e3540f"
      },
      "execution_count": 21,
      "outputs": [
        {
          "output_type": "execute_result",
          "data": {
            "text/plain": [
              "N                                      0\n",
              "Должность                              0\n",
              "Язык.программирования               3850\n",
              "Общий.опыт.работы                      0\n",
              "Опыт.работы.на.текущем.месте           0\n",
              "Зарплата.в.месяц                       0\n",
              "Изменение.зарплаты.за.12.месяцев       0\n",
              "Город                                  0\n",
              "Размер.компании                        0\n",
              "Тип.компании                           0\n",
              "Пол                                    0\n",
              "Возраст                                0\n",
              "Образование                            0\n",
              "Еще.студент                            0\n",
              "Уровень.английского                    0\n",
              "Предметная.область                   223\n",
              "Дата.заполнения                        0\n",
              "User.Agent                             0\n",
              "exp                                    0\n",
              "current_job_exp                        0\n",
              "salary                                 0\n",
              "dtype: int64"
            ]
          },
          "metadata": {},
          "execution_count": 21
        }
      ]
    },
    {
      "cell_type": "code",
      "source": [
        "df_clear = df_clear.drop('Предметная.область', axis=1)"
      ],
      "metadata": {
        "id": "M2OrrMONaQmx"
      },
      "execution_count": 22,
      "outputs": []
    },
    {
      "cell_type": "code",
      "source": [
        "df_clear.isnull().sum()"
      ],
      "metadata": {
        "colab": {
          "base_uri": "https://localhost:8080/"
        },
        "id": "RZmaqTQiaQqb",
        "outputId": "e51ee83e-f281-4aa7-c7cd-f8bbfb9bd87f"
      },
      "execution_count": 23,
      "outputs": [
        {
          "output_type": "execute_result",
          "data": {
            "text/plain": [
              "N                                      0\n",
              "Должность                              0\n",
              "Язык.программирования               3850\n",
              "Общий.опыт.работы                      0\n",
              "Опыт.работы.на.текущем.месте           0\n",
              "Зарплата.в.месяц                       0\n",
              "Изменение.зарплаты.за.12.месяцев       0\n",
              "Город                                  0\n",
              "Размер.компании                        0\n",
              "Тип.компании                           0\n",
              "Пол                                    0\n",
              "Возраст                                0\n",
              "Образование                            0\n",
              "Еще.студент                            0\n",
              "Уровень.английского                    0\n",
              "Дата.заполнения                        0\n",
              "User.Agent                             0\n",
              "exp                                    0\n",
              "current_job_exp                        0\n",
              "salary                                 0\n",
              "dtype: int64"
            ]
          },
          "metadata": {},
          "execution_count": 23
        }
      ]
    },
    {
      "cell_type": "markdown",
      "source": [
        "* Видаліть усі рядки у вихідній таблиці за допомогою методу dropna"
      ],
      "metadata": {
        "id": "icHPDKs9hPpa"
      }
    },
    {
      "cell_type": "code",
      "source": [
        "df_clear.shape"
      ],
      "metadata": {
        "colab": {
          "base_uri": "https://localhost:8080/"
        },
        "id": "tSDe8KLIaQ0l",
        "outputId": "c4edd783-a2e9-48fe-eb41-554585ef2bc3"
      },
      "execution_count": 24,
      "outputs": [
        {
          "output_type": "execute_result",
          "data": {
            "text/plain": [
              "(8704, 20)"
            ]
          },
          "metadata": {},
          "execution_count": 24
        }
      ]
    },
    {
      "cell_type": "code",
      "source": [
        "df_clear.dropna()"
      ],
      "metadata": {
        "colab": {
          "base_uri": "https://localhost:8080/",
          "height": 939
        },
        "id": "jtzqjzsChno1",
        "outputId": "4816be29-f90e-4526-90aa-5b72b8eb2b67"
      },
      "execution_count": 33,
      "outputs": [
        {
          "output_type": "execute_result",
          "data": {
            "text/plain": [
              "         N                 Должность Язык.программирования Общий.опыт.работы  \\\n",
              "2        3         Software Engineer               C#/.NET                 4   \n",
              "3        4         Software Engineer            JavaScript                 5   \n",
              "4        5  Senior Software Engineer            JavaScript    10 и более лет   \n",
              "6        7  Junior Software Engineer               C#/.NET                 1   \n",
              "7        8  Senior Software Engineer                   C++                 6   \n",
              "...    ...                       ...                   ...               ...   \n",
              "8692  8693         Software Engineer                  Java                 5   \n",
              "8694  8695  Junior Software Engineer               C#/.NET                 1   \n",
              "8695  8696         Software Engineer                Python                 1   \n",
              "8701  8702  Junior Software Engineer            Ruby/Rails                 1   \n",
              "8703  8704  Senior Software Engineer                  Java                 7   \n",
              "\n",
              "     Опыт.работы.на.текущем.месте  Зарплата.в.месяц  \\\n",
              "2                               1              2500   \n",
              "3                               4              2000   \n",
              "4                             0.5              4500   \n",
              "6                меньше 3 месяцев               600   \n",
              "7                               1              3300   \n",
              "...                           ...               ...   \n",
              "8692                            1              3500   \n",
              "8694                            1               550   \n",
              "8695                          0.5              1500   \n",
              "8701                          0.5               800   \n",
              "8703                            2              5000   \n",
              "\n",
              "      Изменение.зарплаты.за.12.месяцев        Город  Размер.компании  \\\n",
              "2                                  800         Киев  до 1000 человек   \n",
              "3                                  400       Одесса   до 200 человек   \n",
              "4                                  500       Другой    до 10 человек   \n",
              "6                                  100  Хмельницкий    до 50 человек   \n",
              "7                                  500         Киев    до 10 человек   \n",
              "...                                ...          ...              ...   \n",
              "8692                               650     Удаленно   до 200 человек   \n",
              "8694                               550      Харьков   до 200 человек   \n",
              "8695                              1000         Киев    до 10 человек   \n",
              "8701                               500        Львов    до 10 человек   \n",
              "8703                               800       Одесса  до 1000 человек   \n",
              "\n",
              "         Тип.компании      Пол  Возраст           Образование  Еще.студент  \\\n",
              "2      Аутсорсинговая  мужской       26                Высшее        False   \n",
              "3         Продуктовая  мужской       30               Среднее        False   \n",
              "4         Продуктовая  мужской       30    Техникум / Колледж        False   \n",
              "6      Аутсорсинговая  мужской       23                Высшее        False   \n",
              "7         Продуктовая  мужской       28                Высшее        False   \n",
              "...               ...      ...      ...                   ...          ...   \n",
              "8692   Аутсорсинговая  женский       28                Высшее        False   \n",
              "8694   Аутсорсинговая  мужской       23                Высшее        False   \n",
              "8695          Стартап  мужской       29                Высшее        False   \n",
              "8701  Аутстаффинговая  мужской       30  Незаконченное высшее        False   \n",
              "8703      Продуктовая  мужской       28                Высшее        False   \n",
              "\n",
              "     Уровень.английского      Дата.заполнения  \\\n",
              "2                средний  12/06/2017 13:02:47   \n",
              "3          ниже среднего  12/06/2017 13:03:01   \n",
              "4                средний  12/06/2017 13:03:47   \n",
              "6          ниже среднего  12/06/2017 13:04:26   \n",
              "7          выше среднего  12/06/2017 13:04:27   \n",
              "...                  ...                  ...   \n",
              "8692             средний  12/07/2017 13:26:49   \n",
              "8694       ниже среднего  12/07/2017 14:14:33   \n",
              "8695             средний  12/07/2017 14:39:21   \n",
              "8701       выше среднего  12/07/2017 17:32:26   \n",
              "8703       выше среднего  12/07/2017 21:28:57   \n",
              "\n",
              "                                             User.Agent   exp  \\\n",
              "2     Mozilla/5.0 (Windows NT 10.0; Win64; x64) Appl...   4.0   \n",
              "3     Mozilla/5.0 (Windows NT 6.1; Win64; x64) Apple...   5.0   \n",
              "4     Mozilla/5.0 (iPhone; CPU iPhone OS 10_3_2 like...  10.0   \n",
              "6     Mozilla/5.0 (Windows NT 10.0; Win64; x64) Appl...   1.0   \n",
              "7     Mozilla/5.0 (X11; Ubuntu; Linux x86_64; rv:53....   6.0   \n",
              "...                                                 ...   ...   \n",
              "8692  Mozilla/5.0 (Macintosh; Intel Mac OS X 10_12_5...   5.0   \n",
              "8694  Mozilla/5.0 (Windows NT 10.0; WOW64; rv:54.0) ...   1.0   \n",
              "8695  Mozilla/5.0 (X11; Linux x86_64) AppleWebKit/53...   1.0   \n",
              "8701  Mozilla/5.0 (X11; Linux x86_64) AppleWebKit/53...   1.0   \n",
              "8703  Mozilla/5.0 (iPad; CPU OS 10_3_2 like Mac OS X...   7.0   \n",
              "\n",
              "      current_job_exp  salary  \n",
              "2                 1.0    2500  \n",
              "3                 4.0    2000  \n",
              "4                 0.5    4500  \n",
              "6                 0.0     600  \n",
              "7                 1.0    3300  \n",
              "...               ...     ...  \n",
              "8692              1.0    3500  \n",
              "8694              1.0     550  \n",
              "8695              0.5    1500  \n",
              "8701              0.5     800  \n",
              "8703              2.0    5000  \n",
              "\n",
              "[4854 rows x 20 columns]"
            ],
            "text/html": [
              "\n",
              "  <div id=\"df-e96b1950-9430-4d74-b8e6-8cd5536df5c5\">\n",
              "    <div class=\"colab-df-container\">\n",
              "      <div>\n",
              "<style scoped>\n",
              "    .dataframe tbody tr th:only-of-type {\n",
              "        vertical-align: middle;\n",
              "    }\n",
              "\n",
              "    .dataframe tbody tr th {\n",
              "        vertical-align: top;\n",
              "    }\n",
              "\n",
              "    .dataframe thead th {\n",
              "        text-align: right;\n",
              "    }\n",
              "</style>\n",
              "<table border=\"1\" class=\"dataframe\">\n",
              "  <thead>\n",
              "    <tr style=\"text-align: right;\">\n",
              "      <th></th>\n",
              "      <th>N</th>\n",
              "      <th>Должность</th>\n",
              "      <th>Язык.программирования</th>\n",
              "      <th>Общий.опыт.работы</th>\n",
              "      <th>Опыт.работы.на.текущем.месте</th>\n",
              "      <th>Зарплата.в.месяц</th>\n",
              "      <th>Изменение.зарплаты.за.12.месяцев</th>\n",
              "      <th>Город</th>\n",
              "      <th>Размер.компании</th>\n",
              "      <th>Тип.компании</th>\n",
              "      <th>Пол</th>\n",
              "      <th>Возраст</th>\n",
              "      <th>Образование</th>\n",
              "      <th>Еще.студент</th>\n",
              "      <th>Уровень.английского</th>\n",
              "      <th>Дата.заполнения</th>\n",
              "      <th>User.Agent</th>\n",
              "      <th>exp</th>\n",
              "      <th>current_job_exp</th>\n",
              "      <th>salary</th>\n",
              "    </tr>\n",
              "  </thead>\n",
              "  <tbody>\n",
              "    <tr>\n",
              "      <th>2</th>\n",
              "      <td>3</td>\n",
              "      <td>Software Engineer</td>\n",
              "      <td>C#/.NET</td>\n",
              "      <td>4</td>\n",
              "      <td>1</td>\n",
              "      <td>2500</td>\n",
              "      <td>800</td>\n",
              "      <td>Киев</td>\n",
              "      <td>до 1000 человек</td>\n",
              "      <td>Аутсорсинговая</td>\n",
              "      <td>мужской</td>\n",
              "      <td>26</td>\n",
              "      <td>Высшее</td>\n",
              "      <td>False</td>\n",
              "      <td>средний</td>\n",
              "      <td>12/06/2017 13:02:47</td>\n",
              "      <td>Mozilla/5.0 (Windows NT 10.0; Win64; x64) Appl...</td>\n",
              "      <td>4.0</td>\n",
              "      <td>1.0</td>\n",
              "      <td>2500</td>\n",
              "    </tr>\n",
              "    <tr>\n",
              "      <th>3</th>\n",
              "      <td>4</td>\n",
              "      <td>Software Engineer</td>\n",
              "      <td>JavaScript</td>\n",
              "      <td>5</td>\n",
              "      <td>4</td>\n",
              "      <td>2000</td>\n",
              "      <td>400</td>\n",
              "      <td>Одесса</td>\n",
              "      <td>до 200 человек</td>\n",
              "      <td>Продуктовая</td>\n",
              "      <td>мужской</td>\n",
              "      <td>30</td>\n",
              "      <td>Среднее</td>\n",
              "      <td>False</td>\n",
              "      <td>ниже среднего</td>\n",
              "      <td>12/06/2017 13:03:01</td>\n",
              "      <td>Mozilla/5.0 (Windows NT 6.1; Win64; x64) Apple...</td>\n",
              "      <td>5.0</td>\n",
              "      <td>4.0</td>\n",
              "      <td>2000</td>\n",
              "    </tr>\n",
              "    <tr>\n",
              "      <th>4</th>\n",
              "      <td>5</td>\n",
              "      <td>Senior Software Engineer</td>\n",
              "      <td>JavaScript</td>\n",
              "      <td>10 и более лет</td>\n",
              "      <td>0.5</td>\n",
              "      <td>4500</td>\n",
              "      <td>500</td>\n",
              "      <td>Другой</td>\n",
              "      <td>до 10 человек</td>\n",
              "      <td>Продуктовая</td>\n",
              "      <td>мужской</td>\n",
              "      <td>30</td>\n",
              "      <td>Техникум / Колледж</td>\n",
              "      <td>False</td>\n",
              "      <td>средний</td>\n",
              "      <td>12/06/2017 13:03:47</td>\n",
              "      <td>Mozilla/5.0 (iPhone; CPU iPhone OS 10_3_2 like...</td>\n",
              "      <td>10.0</td>\n",
              "      <td>0.5</td>\n",
              "      <td>4500</td>\n",
              "    </tr>\n",
              "    <tr>\n",
              "      <th>6</th>\n",
              "      <td>7</td>\n",
              "      <td>Junior Software Engineer</td>\n",
              "      <td>C#/.NET</td>\n",
              "      <td>1</td>\n",
              "      <td>меньше 3 месяцев</td>\n",
              "      <td>600</td>\n",
              "      <td>100</td>\n",
              "      <td>Хмельницкий</td>\n",
              "      <td>до 50 человек</td>\n",
              "      <td>Аутсорсинговая</td>\n",
              "      <td>мужской</td>\n",
              "      <td>23</td>\n",
              "      <td>Высшее</td>\n",
              "      <td>False</td>\n",
              "      <td>ниже среднего</td>\n",
              "      <td>12/06/2017 13:04:26</td>\n",
              "      <td>Mozilla/5.0 (Windows NT 10.0; Win64; x64) Appl...</td>\n",
              "      <td>1.0</td>\n",
              "      <td>0.0</td>\n",
              "      <td>600</td>\n",
              "    </tr>\n",
              "    <tr>\n",
              "      <th>7</th>\n",
              "      <td>8</td>\n",
              "      <td>Senior Software Engineer</td>\n",
              "      <td>C++</td>\n",
              "      <td>6</td>\n",
              "      <td>1</td>\n",
              "      <td>3300</td>\n",
              "      <td>500</td>\n",
              "      <td>Киев</td>\n",
              "      <td>до 10 человек</td>\n",
              "      <td>Продуктовая</td>\n",
              "      <td>мужской</td>\n",
              "      <td>28</td>\n",
              "      <td>Высшее</td>\n",
              "      <td>False</td>\n",
              "      <td>выше среднего</td>\n",
              "      <td>12/06/2017 13:04:27</td>\n",
              "      <td>Mozilla/5.0 (X11; Ubuntu; Linux x86_64; rv:53....</td>\n",
              "      <td>6.0</td>\n",
              "      <td>1.0</td>\n",
              "      <td>3300</td>\n",
              "    </tr>\n",
              "    <tr>\n",
              "      <th>...</th>\n",
              "      <td>...</td>\n",
              "      <td>...</td>\n",
              "      <td>...</td>\n",
              "      <td>...</td>\n",
              "      <td>...</td>\n",
              "      <td>...</td>\n",
              "      <td>...</td>\n",
              "      <td>...</td>\n",
              "      <td>...</td>\n",
              "      <td>...</td>\n",
              "      <td>...</td>\n",
              "      <td>...</td>\n",
              "      <td>...</td>\n",
              "      <td>...</td>\n",
              "      <td>...</td>\n",
              "      <td>...</td>\n",
              "      <td>...</td>\n",
              "      <td>...</td>\n",
              "      <td>...</td>\n",
              "      <td>...</td>\n",
              "    </tr>\n",
              "    <tr>\n",
              "      <th>8692</th>\n",
              "      <td>8693</td>\n",
              "      <td>Software Engineer</td>\n",
              "      <td>Java</td>\n",
              "      <td>5</td>\n",
              "      <td>1</td>\n",
              "      <td>3500</td>\n",
              "      <td>650</td>\n",
              "      <td>Удаленно</td>\n",
              "      <td>до 200 человек</td>\n",
              "      <td>Аутсорсинговая</td>\n",
              "      <td>женский</td>\n",
              "      <td>28</td>\n",
              "      <td>Высшее</td>\n",
              "      <td>False</td>\n",
              "      <td>средний</td>\n",
              "      <td>12/07/2017 13:26:49</td>\n",
              "      <td>Mozilla/5.0 (Macintosh; Intel Mac OS X 10_12_5...</td>\n",
              "      <td>5.0</td>\n",
              "      <td>1.0</td>\n",
              "      <td>3500</td>\n",
              "    </tr>\n",
              "    <tr>\n",
              "      <th>8694</th>\n",
              "      <td>8695</td>\n",
              "      <td>Junior Software Engineer</td>\n",
              "      <td>C#/.NET</td>\n",
              "      <td>1</td>\n",
              "      <td>1</td>\n",
              "      <td>550</td>\n",
              "      <td>550</td>\n",
              "      <td>Харьков</td>\n",
              "      <td>до 200 человек</td>\n",
              "      <td>Аутсорсинговая</td>\n",
              "      <td>мужской</td>\n",
              "      <td>23</td>\n",
              "      <td>Высшее</td>\n",
              "      <td>False</td>\n",
              "      <td>ниже среднего</td>\n",
              "      <td>12/07/2017 14:14:33</td>\n",
              "      <td>Mozilla/5.0 (Windows NT 10.0; WOW64; rv:54.0) ...</td>\n",
              "      <td>1.0</td>\n",
              "      <td>1.0</td>\n",
              "      <td>550</td>\n",
              "    </tr>\n",
              "    <tr>\n",
              "      <th>8695</th>\n",
              "      <td>8696</td>\n",
              "      <td>Software Engineer</td>\n",
              "      <td>Python</td>\n",
              "      <td>1</td>\n",
              "      <td>0.5</td>\n",
              "      <td>1500</td>\n",
              "      <td>1000</td>\n",
              "      <td>Киев</td>\n",
              "      <td>до 10 человек</td>\n",
              "      <td>Стартап</td>\n",
              "      <td>мужской</td>\n",
              "      <td>29</td>\n",
              "      <td>Высшее</td>\n",
              "      <td>False</td>\n",
              "      <td>средний</td>\n",
              "      <td>12/07/2017 14:39:21</td>\n",
              "      <td>Mozilla/5.0 (X11; Linux x86_64) AppleWebKit/53...</td>\n",
              "      <td>1.0</td>\n",
              "      <td>0.5</td>\n",
              "      <td>1500</td>\n",
              "    </tr>\n",
              "    <tr>\n",
              "      <th>8701</th>\n",
              "      <td>8702</td>\n",
              "      <td>Junior Software Engineer</td>\n",
              "      <td>Ruby/Rails</td>\n",
              "      <td>1</td>\n",
              "      <td>0.5</td>\n",
              "      <td>800</td>\n",
              "      <td>500</td>\n",
              "      <td>Львов</td>\n",
              "      <td>до 10 человек</td>\n",
              "      <td>Аутстаффинговая</td>\n",
              "      <td>мужской</td>\n",
              "      <td>30</td>\n",
              "      <td>Незаконченное высшее</td>\n",
              "      <td>False</td>\n",
              "      <td>выше среднего</td>\n",
              "      <td>12/07/2017 17:32:26</td>\n",
              "      <td>Mozilla/5.0 (X11; Linux x86_64) AppleWebKit/53...</td>\n",
              "      <td>1.0</td>\n",
              "      <td>0.5</td>\n",
              "      <td>800</td>\n",
              "    </tr>\n",
              "    <tr>\n",
              "      <th>8703</th>\n",
              "      <td>8704</td>\n",
              "      <td>Senior Software Engineer</td>\n",
              "      <td>Java</td>\n",
              "      <td>7</td>\n",
              "      <td>2</td>\n",
              "      <td>5000</td>\n",
              "      <td>800</td>\n",
              "      <td>Одесса</td>\n",
              "      <td>до 1000 человек</td>\n",
              "      <td>Продуктовая</td>\n",
              "      <td>мужской</td>\n",
              "      <td>28</td>\n",
              "      <td>Высшее</td>\n",
              "      <td>False</td>\n",
              "      <td>выше среднего</td>\n",
              "      <td>12/07/2017 21:28:57</td>\n",
              "      <td>Mozilla/5.0 (iPad; CPU OS 10_3_2 like Mac OS X...</td>\n",
              "      <td>7.0</td>\n",
              "      <td>2.0</td>\n",
              "      <td>5000</td>\n",
              "    </tr>\n",
              "  </tbody>\n",
              "</table>\n",
              "<p>4854 rows × 20 columns</p>\n",
              "</div>\n",
              "      <button class=\"colab-df-convert\" onclick=\"convertToInteractive('df-e96b1950-9430-4d74-b8e6-8cd5536df5c5')\"\n",
              "              title=\"Convert this dataframe to an interactive table.\"\n",
              "              style=\"display:none;\">\n",
              "        \n",
              "  <svg xmlns=\"http://www.w3.org/2000/svg\" height=\"24px\"viewBox=\"0 0 24 24\"\n",
              "       width=\"24px\">\n",
              "    <path d=\"M0 0h24v24H0V0z\" fill=\"none\"/>\n",
              "    <path d=\"M18.56 5.44l.94 2.06.94-2.06 2.06-.94-2.06-.94-.94-2.06-.94 2.06-2.06.94zm-11 1L8.5 8.5l.94-2.06 2.06-.94-2.06-.94L8.5 2.5l-.94 2.06-2.06.94zm10 10l.94 2.06.94-2.06 2.06-.94-2.06-.94-.94-2.06-.94 2.06-2.06.94z\"/><path d=\"M17.41 7.96l-1.37-1.37c-.4-.4-.92-.59-1.43-.59-.52 0-1.04.2-1.43.59L10.3 9.45l-7.72 7.72c-.78.78-.78 2.05 0 2.83L4 21.41c.39.39.9.59 1.41.59.51 0 1.02-.2 1.41-.59l7.78-7.78 2.81-2.81c.8-.78.8-2.07 0-2.86zM5.41 20L4 18.59l7.72-7.72 1.47 1.35L5.41 20z\"/>\n",
              "  </svg>\n",
              "      </button>\n",
              "      \n",
              "  <style>\n",
              "    .colab-df-container {\n",
              "      display:flex;\n",
              "      flex-wrap:wrap;\n",
              "      gap: 12px;\n",
              "    }\n",
              "\n",
              "    .colab-df-convert {\n",
              "      background-color: #E8F0FE;\n",
              "      border: none;\n",
              "      border-radius: 50%;\n",
              "      cursor: pointer;\n",
              "      display: none;\n",
              "      fill: #1967D2;\n",
              "      height: 32px;\n",
              "      padding: 0 0 0 0;\n",
              "      width: 32px;\n",
              "    }\n",
              "\n",
              "    .colab-df-convert:hover {\n",
              "      background-color: #E2EBFA;\n",
              "      box-shadow: 0px 1px 2px rgba(60, 64, 67, 0.3), 0px 1px 3px 1px rgba(60, 64, 67, 0.15);\n",
              "      fill: #174EA6;\n",
              "    }\n",
              "\n",
              "    [theme=dark] .colab-df-convert {\n",
              "      background-color: #3B4455;\n",
              "      fill: #D2E3FC;\n",
              "    }\n",
              "\n",
              "    [theme=dark] .colab-df-convert:hover {\n",
              "      background-color: #434B5C;\n",
              "      box-shadow: 0px 1px 3px 1px rgba(0, 0, 0, 0.15);\n",
              "      filter: drop-shadow(0px 1px 2px rgba(0, 0, 0, 0.3));\n",
              "      fill: #FFFFFF;\n",
              "    }\n",
              "  </style>\n",
              "\n",
              "      <script>\n",
              "        const buttonEl =\n",
              "          document.querySelector('#df-e96b1950-9430-4d74-b8e6-8cd5536df5c5 button.colab-df-convert');\n",
              "        buttonEl.style.display =\n",
              "          google.colab.kernel.accessAllowed ? 'block' : 'none';\n",
              "\n",
              "        async function convertToInteractive(key) {\n",
              "          const element = document.querySelector('#df-e96b1950-9430-4d74-b8e6-8cd5536df5c5');\n",
              "          const dataTable =\n",
              "            await google.colab.kernel.invokeFunction('convertToInteractive',\n",
              "                                                     [key], {});\n",
              "          if (!dataTable) return;\n",
              "\n",
              "          const docLinkHtml = 'Like what you see? Visit the ' +\n",
              "            '<a target=\"_blank\" href=https://colab.research.google.com/notebooks/data_table.ipynb>data table notebook</a>'\n",
              "            + ' to learn more about interactive tables.';\n",
              "          element.innerHTML = '';\n",
              "          dataTable['output_type'] = 'display_data';\n",
              "          await google.colab.output.renderOutput(dataTable, element);\n",
              "          const docLink = document.createElement('div');\n",
              "          docLink.innerHTML = docLinkHtml;\n",
              "          element.appendChild(docLink);\n",
              "        }\n",
              "      </script>\n",
              "    </div>\n",
              "  </div>\n",
              "  "
            ]
          },
          "metadata": {},
          "execution_count": 33
        }
      ]
    },
    {
      "cell_type": "markdown",
      "source": [
        "* Визначте новий розмір таблиці за допомогою методу shape\n"
      ],
      "metadata": {
        "id": "pFDBvEX5ipzL"
      }
    },
    {
      "cell_type": "code",
      "source": [
        "df_clear.shape"
      ],
      "metadata": {
        "colab": {
          "base_uri": "https://localhost:8080/"
        },
        "id": "NL_0hmAphnuS",
        "outputId": "87095666-60ab-4dcf-ea4e-611ccc3ba3d2"
      },
      "execution_count": 34,
      "outputs": [
        {
          "output_type": "execute_result",
          "data": {
            "text/plain": [
              "(8704, 20)"
            ]
          },
          "metadata": {},
          "execution_count": 34
        }
      ]
    },
    {
      "cell_type": "markdown",
      "source": [
        "* Створіть нову таблицю python_data, в якій будуть тільки рядки зі спеціалістами, які вказали мову програмування Python"
      ],
      "metadata": {
        "id": "iIwTpgsvimh0"
      }
    },
    {
      "cell_type": "code",
      "source": [
        "python_data = df_clear.loc[df_clear['Язык.программирования'] == 'Python']"
      ],
      "metadata": {
        "id": "PzoX37jdhnx9"
      },
      "execution_count": 36,
      "outputs": []
    },
    {
      "cell_type": "markdown",
      "source": [
        "* Визначте розмір таблиці python_data за допомогою методу shape"
      ],
      "metadata": {
        "id": "AjD89UFLjzgW"
      }
    },
    {
      "cell_type": "code",
      "source": [
        "python_data.shape"
      ],
      "metadata": {
        "colab": {
          "base_uri": "https://localhost:8080/"
        },
        "id": "WeS7JUeRiy0i",
        "outputId": "465b95c1-7c97-45ba-f277-20a70f459a15"
      },
      "execution_count": 38,
      "outputs": [
        {
          "output_type": "execute_result",
          "data": {
            "text/plain": [
              "(207, 20)"
            ]
          },
          "metadata": {},
          "execution_count": 38
        }
      ]
    },
    {
      "cell_type": "markdown",
      "source": [
        "* Використовуючи метод groupby, виконайте групування за стовпчиком \"Посада\""
      ],
      "metadata": {
        "id": "A2qTzcJ0j9Vi"
      }
    },
    {
      "cell_type": "code",
      "source": [
        "python_data.groupby(by='Должность')"
      ],
      "metadata": {
        "colab": {
          "base_uri": "https://localhost:8080/"
        },
        "id": "d9dtxjNPiy3H",
        "outputId": "6b7e976a-04ec-42ef-c12d-0bb7f64ca03d"
      },
      "execution_count": 40,
      "outputs": [
        {
          "output_type": "execute_result",
          "data": {
            "text/plain": [
              "<pandas.core.groupby.generic.DataFrameGroupBy object at 0x7f0648603730>"
            ]
          },
          "metadata": {},
          "execution_count": 40
        }
      ]
    },
    {
      "cell_type": "code",
      "source": [
        "python_data.head(5)"
      ],
      "metadata": {
        "colab": {
          "base_uri": "https://localhost:8080/",
          "height": 478
        },
        "id": "8e03tSZLiy5-",
        "outputId": "ac2ad2ef-c846-4350-806d-261fb9f942eb"
      },
      "execution_count": 42,
      "outputs": [
        {
          "output_type": "execute_result",
          "data": {
            "text/plain": [
              "       N                 Должность Язык.программирования Общий.опыт.работы  \\\n",
              "12    13         Software Engineer                Python                 1   \n",
              "68    69         Software Engineer                Python               1.5   \n",
              "87    88  Junior Software Engineer                Python               0.5   \n",
              "114  115  Junior Software Engineer                Python               1.5   \n",
              "143  144  Junior Software Engineer                Python                 1   \n",
              "\n",
              "    Опыт.работы.на.текущем.месте  Зарплата.в.месяц  \\\n",
              "12              меньше 3 месяцев               800   \n",
              "68                           0.5               900   \n",
              "87                           0.5               600   \n",
              "114                          0.5               685   \n",
              "143                            1               750   \n",
              "\n",
              "     Изменение.зарплаты.за.12.месяцев Город  Размер.компании    Тип.компании  \\\n",
              "12                                200  Киев    до 50 человек  Аутсорсинговая   \n",
              "68                                900  Киев    до 10 человек         Стартап   \n",
              "87                                  0  Киев    до 10 человек  Аутсорсинговая   \n",
              "114                               250  Киев  до 1000 человек  Аутсорсинговая   \n",
              "143                               250  Киев    до 10 человек  Аутсорсинговая   \n",
              "\n",
              "         Пол  Возраст           Образование  Еще.студент Уровень.английского  \\\n",
              "12   мужской       26                Высшее        False       ниже среднего   \n",
              "68   мужской       21  Незаконченное высшее         True       выше среднего   \n",
              "87   мужской       19  Незаконченное высшее         True       выше среднего   \n",
              "114  мужской       21  Незаконченное высшее        False             средний   \n",
              "143  мужской       21  Незаконченное высшее         True       выше среднего   \n",
              "\n",
              "         Дата.заполнения                                         User.Agent  \\\n",
              "12   12/06/2017 13:05:54  Mozilla/5.0 (Windows NT 6.1; Win64; x64) Apple...   \n",
              "68   12/06/2017 13:11:17  Mozilla/5.0 (Windows NT 10.0; Win64; x64) Appl...   \n",
              "87   12/06/2017 13:12:25  Mozilla/5.0 (X11; Linux x86_64) AppleWebKit/53...   \n",
              "114  12/06/2017 13:14:52  Mozilla/5.0 (X11; Linux x86_64) AppleWebKit/53...   \n",
              "143  12/06/2017 13:19:10  Mozilla/5.0 (X11; Linux x86_64) AppleWebKit/53...   \n",
              "\n",
              "     exp  current_job_exp  salary  \n",
              "12   1.0              0.0     800  \n",
              "68   1.5              0.5     900  \n",
              "87   0.5              0.5     600  \n",
              "114  1.5              0.5     685  \n",
              "143  1.0              1.0     750  "
            ],
            "text/html": [
              "\n",
              "  <div id=\"df-f705ab3b-db37-442e-ba74-0734ae1db1c4\">\n",
              "    <div class=\"colab-df-container\">\n",
              "      <div>\n",
              "<style scoped>\n",
              "    .dataframe tbody tr th:only-of-type {\n",
              "        vertical-align: middle;\n",
              "    }\n",
              "\n",
              "    .dataframe tbody tr th {\n",
              "        vertical-align: top;\n",
              "    }\n",
              "\n",
              "    .dataframe thead th {\n",
              "        text-align: right;\n",
              "    }\n",
              "</style>\n",
              "<table border=\"1\" class=\"dataframe\">\n",
              "  <thead>\n",
              "    <tr style=\"text-align: right;\">\n",
              "      <th></th>\n",
              "      <th>N</th>\n",
              "      <th>Должность</th>\n",
              "      <th>Язык.программирования</th>\n",
              "      <th>Общий.опыт.работы</th>\n",
              "      <th>Опыт.работы.на.текущем.месте</th>\n",
              "      <th>Зарплата.в.месяц</th>\n",
              "      <th>Изменение.зарплаты.за.12.месяцев</th>\n",
              "      <th>Город</th>\n",
              "      <th>Размер.компании</th>\n",
              "      <th>Тип.компании</th>\n",
              "      <th>Пол</th>\n",
              "      <th>Возраст</th>\n",
              "      <th>Образование</th>\n",
              "      <th>Еще.студент</th>\n",
              "      <th>Уровень.английского</th>\n",
              "      <th>Дата.заполнения</th>\n",
              "      <th>User.Agent</th>\n",
              "      <th>exp</th>\n",
              "      <th>current_job_exp</th>\n",
              "      <th>salary</th>\n",
              "    </tr>\n",
              "  </thead>\n",
              "  <tbody>\n",
              "    <tr>\n",
              "      <th>12</th>\n",
              "      <td>13</td>\n",
              "      <td>Software Engineer</td>\n",
              "      <td>Python</td>\n",
              "      <td>1</td>\n",
              "      <td>меньше 3 месяцев</td>\n",
              "      <td>800</td>\n",
              "      <td>200</td>\n",
              "      <td>Киев</td>\n",
              "      <td>до 50 человек</td>\n",
              "      <td>Аутсорсинговая</td>\n",
              "      <td>мужской</td>\n",
              "      <td>26</td>\n",
              "      <td>Высшее</td>\n",
              "      <td>False</td>\n",
              "      <td>ниже среднего</td>\n",
              "      <td>12/06/2017 13:05:54</td>\n",
              "      <td>Mozilla/5.0 (Windows NT 6.1; Win64; x64) Apple...</td>\n",
              "      <td>1.0</td>\n",
              "      <td>0.0</td>\n",
              "      <td>800</td>\n",
              "    </tr>\n",
              "    <tr>\n",
              "      <th>68</th>\n",
              "      <td>69</td>\n",
              "      <td>Software Engineer</td>\n",
              "      <td>Python</td>\n",
              "      <td>1.5</td>\n",
              "      <td>0.5</td>\n",
              "      <td>900</td>\n",
              "      <td>900</td>\n",
              "      <td>Киев</td>\n",
              "      <td>до 10 человек</td>\n",
              "      <td>Стартап</td>\n",
              "      <td>мужской</td>\n",
              "      <td>21</td>\n",
              "      <td>Незаконченное высшее</td>\n",
              "      <td>True</td>\n",
              "      <td>выше среднего</td>\n",
              "      <td>12/06/2017 13:11:17</td>\n",
              "      <td>Mozilla/5.0 (Windows NT 10.0; Win64; x64) Appl...</td>\n",
              "      <td>1.5</td>\n",
              "      <td>0.5</td>\n",
              "      <td>900</td>\n",
              "    </tr>\n",
              "    <tr>\n",
              "      <th>87</th>\n",
              "      <td>88</td>\n",
              "      <td>Junior Software Engineer</td>\n",
              "      <td>Python</td>\n",
              "      <td>0.5</td>\n",
              "      <td>0.5</td>\n",
              "      <td>600</td>\n",
              "      <td>0</td>\n",
              "      <td>Киев</td>\n",
              "      <td>до 10 человек</td>\n",
              "      <td>Аутсорсинговая</td>\n",
              "      <td>мужской</td>\n",
              "      <td>19</td>\n",
              "      <td>Незаконченное высшее</td>\n",
              "      <td>True</td>\n",
              "      <td>выше среднего</td>\n",
              "      <td>12/06/2017 13:12:25</td>\n",
              "      <td>Mozilla/5.0 (X11; Linux x86_64) AppleWebKit/53...</td>\n",
              "      <td>0.5</td>\n",
              "      <td>0.5</td>\n",
              "      <td>600</td>\n",
              "    </tr>\n",
              "    <tr>\n",
              "      <th>114</th>\n",
              "      <td>115</td>\n",
              "      <td>Junior Software Engineer</td>\n",
              "      <td>Python</td>\n",
              "      <td>1.5</td>\n",
              "      <td>0.5</td>\n",
              "      <td>685</td>\n",
              "      <td>250</td>\n",
              "      <td>Киев</td>\n",
              "      <td>до 1000 человек</td>\n",
              "      <td>Аутсорсинговая</td>\n",
              "      <td>мужской</td>\n",
              "      <td>21</td>\n",
              "      <td>Незаконченное высшее</td>\n",
              "      <td>False</td>\n",
              "      <td>средний</td>\n",
              "      <td>12/06/2017 13:14:52</td>\n",
              "      <td>Mozilla/5.0 (X11; Linux x86_64) AppleWebKit/53...</td>\n",
              "      <td>1.5</td>\n",
              "      <td>0.5</td>\n",
              "      <td>685</td>\n",
              "    </tr>\n",
              "    <tr>\n",
              "      <th>143</th>\n",
              "      <td>144</td>\n",
              "      <td>Junior Software Engineer</td>\n",
              "      <td>Python</td>\n",
              "      <td>1</td>\n",
              "      <td>1</td>\n",
              "      <td>750</td>\n",
              "      <td>250</td>\n",
              "      <td>Киев</td>\n",
              "      <td>до 10 человек</td>\n",
              "      <td>Аутсорсинговая</td>\n",
              "      <td>мужской</td>\n",
              "      <td>21</td>\n",
              "      <td>Незаконченное высшее</td>\n",
              "      <td>True</td>\n",
              "      <td>выше среднего</td>\n",
              "      <td>12/06/2017 13:19:10</td>\n",
              "      <td>Mozilla/5.0 (X11; Linux x86_64) AppleWebKit/53...</td>\n",
              "      <td>1.0</td>\n",
              "      <td>1.0</td>\n",
              "      <td>750</td>\n",
              "    </tr>\n",
              "  </tbody>\n",
              "</table>\n",
              "</div>\n",
              "      <button class=\"colab-df-convert\" onclick=\"convertToInteractive('df-f705ab3b-db37-442e-ba74-0734ae1db1c4')\"\n",
              "              title=\"Convert this dataframe to an interactive table.\"\n",
              "              style=\"display:none;\">\n",
              "        \n",
              "  <svg xmlns=\"http://www.w3.org/2000/svg\" height=\"24px\"viewBox=\"0 0 24 24\"\n",
              "       width=\"24px\">\n",
              "    <path d=\"M0 0h24v24H0V0z\" fill=\"none\"/>\n",
              "    <path d=\"M18.56 5.44l.94 2.06.94-2.06 2.06-.94-2.06-.94-.94-2.06-.94 2.06-2.06.94zm-11 1L8.5 8.5l.94-2.06 2.06-.94-2.06-.94L8.5 2.5l-.94 2.06-2.06.94zm10 10l.94 2.06.94-2.06 2.06-.94-2.06-.94-.94-2.06-.94 2.06-2.06.94z\"/><path d=\"M17.41 7.96l-1.37-1.37c-.4-.4-.92-.59-1.43-.59-.52 0-1.04.2-1.43.59L10.3 9.45l-7.72 7.72c-.78.78-.78 2.05 0 2.83L4 21.41c.39.39.9.59 1.41.59.51 0 1.02-.2 1.41-.59l7.78-7.78 2.81-2.81c.8-.78.8-2.07 0-2.86zM5.41 20L4 18.59l7.72-7.72 1.47 1.35L5.41 20z\"/>\n",
              "  </svg>\n",
              "      </button>\n",
              "      \n",
              "  <style>\n",
              "    .colab-df-container {\n",
              "      display:flex;\n",
              "      flex-wrap:wrap;\n",
              "      gap: 12px;\n",
              "    }\n",
              "\n",
              "    .colab-df-convert {\n",
              "      background-color: #E8F0FE;\n",
              "      border: none;\n",
              "      border-radius: 50%;\n",
              "      cursor: pointer;\n",
              "      display: none;\n",
              "      fill: #1967D2;\n",
              "      height: 32px;\n",
              "      padding: 0 0 0 0;\n",
              "      width: 32px;\n",
              "    }\n",
              "\n",
              "    .colab-df-convert:hover {\n",
              "      background-color: #E2EBFA;\n",
              "      box-shadow: 0px 1px 2px rgba(60, 64, 67, 0.3), 0px 1px 3px 1px rgba(60, 64, 67, 0.15);\n",
              "      fill: #174EA6;\n",
              "    }\n",
              "\n",
              "    [theme=dark] .colab-df-convert {\n",
              "      background-color: #3B4455;\n",
              "      fill: #D2E3FC;\n",
              "    }\n",
              "\n",
              "    [theme=dark] .colab-df-convert:hover {\n",
              "      background-color: #434B5C;\n",
              "      box-shadow: 0px 1px 3px 1px rgba(0, 0, 0, 0.15);\n",
              "      filter: drop-shadow(0px 1px 2px rgba(0, 0, 0, 0.3));\n",
              "      fill: #FFFFFF;\n",
              "    }\n",
              "  </style>\n",
              "\n",
              "      <script>\n",
              "        const buttonEl =\n",
              "          document.querySelector('#df-f705ab3b-db37-442e-ba74-0734ae1db1c4 button.colab-df-convert');\n",
              "        buttonEl.style.display =\n",
              "          google.colab.kernel.accessAllowed ? 'block' : 'none';\n",
              "\n",
              "        async function convertToInteractive(key) {\n",
              "          const element = document.querySelector('#df-f705ab3b-db37-442e-ba74-0734ae1db1c4');\n",
              "          const dataTable =\n",
              "            await google.colab.kernel.invokeFunction('convertToInteractive',\n",
              "                                                     [key], {});\n",
              "          if (!dataTable) return;\n",
              "\n",
              "          const docLinkHtml = 'Like what you see? Visit the ' +\n",
              "            '<a target=\"_blank\" href=https://colab.research.google.com/notebooks/data_table.ipynb>data table notebook</a>'\n",
              "            + ' to learn more about interactive tables.';\n",
              "          element.innerHTML = '';\n",
              "          dataTable['output_type'] = 'display_data';\n",
              "          await google.colab.output.renderOutput(dataTable, element);\n",
              "          const docLink = document.createElement('div');\n",
              "          docLink.innerHTML = docLinkHtml;\n",
              "          element.appendChild(docLink);\n",
              "        }\n",
              "      </script>\n",
              "    </div>\n",
              "  </div>\n",
              "  "
            ]
          },
          "metadata": {},
          "execution_count": 42
        }
      ]
    },
    {
      "cell_type": "markdown",
      "source": [
        "* Створіть новий DataFrame, де для згрупованих даних за стовпчиком \"Посада\", виконайте агрегацію даних за допомогою методу agg і знайдіть мінімальне та максимальне значення у стовпчику \"Зарплата.в.місяць\""
      ],
      "metadata": {
        "id": "eUvIl3fWlA1V"
      }
    },
    {
      "cell_type": "code",
      "source": [
        "df_agg = python_data.agg({\"Зарплата.в.месяц\": ['min', 'max']})"
      ],
      "metadata": {
        "id": "VFHcV-RQiy8W"
      },
      "execution_count": 43,
      "outputs": []
    },
    {
      "cell_type": "code",
      "source": [
        "df_agg"
      ],
      "metadata": {
        "colab": {
          "base_uri": "https://localhost:8080/",
          "height": 112
        },
        "id": "xABY4khwiy_N",
        "outputId": "a0012109-150e-4ff5-99f3-c3afda9b244b"
      },
      "execution_count": 45,
      "outputs": [
        {
          "output_type": "execute_result",
          "data": {
            "text/plain": [
              "     Зарплата.в.месяц\n",
              "min               100\n",
              "max              9200"
            ],
            "text/html": [
              "\n",
              "  <div id=\"df-a34cd732-26e9-4c64-b01d-1a0bb0267fcc\">\n",
              "    <div class=\"colab-df-container\">\n",
              "      <div>\n",
              "<style scoped>\n",
              "    .dataframe tbody tr th:only-of-type {\n",
              "        vertical-align: middle;\n",
              "    }\n",
              "\n",
              "    .dataframe tbody tr th {\n",
              "        vertical-align: top;\n",
              "    }\n",
              "\n",
              "    .dataframe thead th {\n",
              "        text-align: right;\n",
              "    }\n",
              "</style>\n",
              "<table border=\"1\" class=\"dataframe\">\n",
              "  <thead>\n",
              "    <tr style=\"text-align: right;\">\n",
              "      <th></th>\n",
              "      <th>Зарплата.в.месяц</th>\n",
              "    </tr>\n",
              "  </thead>\n",
              "  <tbody>\n",
              "    <tr>\n",
              "      <th>min</th>\n",
              "      <td>100</td>\n",
              "    </tr>\n",
              "    <tr>\n",
              "      <th>max</th>\n",
              "      <td>9200</td>\n",
              "    </tr>\n",
              "  </tbody>\n",
              "</table>\n",
              "</div>\n",
              "      <button class=\"colab-df-convert\" onclick=\"convertToInteractive('df-a34cd732-26e9-4c64-b01d-1a0bb0267fcc')\"\n",
              "              title=\"Convert this dataframe to an interactive table.\"\n",
              "              style=\"display:none;\">\n",
              "        \n",
              "  <svg xmlns=\"http://www.w3.org/2000/svg\" height=\"24px\"viewBox=\"0 0 24 24\"\n",
              "       width=\"24px\">\n",
              "    <path d=\"M0 0h24v24H0V0z\" fill=\"none\"/>\n",
              "    <path d=\"M18.56 5.44l.94 2.06.94-2.06 2.06-.94-2.06-.94-.94-2.06-.94 2.06-2.06.94zm-11 1L8.5 8.5l.94-2.06 2.06-.94-2.06-.94L8.5 2.5l-.94 2.06-2.06.94zm10 10l.94 2.06.94-2.06 2.06-.94-2.06-.94-.94-2.06-.94 2.06-2.06.94z\"/><path d=\"M17.41 7.96l-1.37-1.37c-.4-.4-.92-.59-1.43-.59-.52 0-1.04.2-1.43.59L10.3 9.45l-7.72 7.72c-.78.78-.78 2.05 0 2.83L4 21.41c.39.39.9.59 1.41.59.51 0 1.02-.2 1.41-.59l7.78-7.78 2.81-2.81c.8-.78.8-2.07 0-2.86zM5.41 20L4 18.59l7.72-7.72 1.47 1.35L5.41 20z\"/>\n",
              "  </svg>\n",
              "      </button>\n",
              "      \n",
              "  <style>\n",
              "    .colab-df-container {\n",
              "      display:flex;\n",
              "      flex-wrap:wrap;\n",
              "      gap: 12px;\n",
              "    }\n",
              "\n",
              "    .colab-df-convert {\n",
              "      background-color: #E8F0FE;\n",
              "      border: none;\n",
              "      border-radius: 50%;\n",
              "      cursor: pointer;\n",
              "      display: none;\n",
              "      fill: #1967D2;\n",
              "      height: 32px;\n",
              "      padding: 0 0 0 0;\n",
              "      width: 32px;\n",
              "    }\n",
              "\n",
              "    .colab-df-convert:hover {\n",
              "      background-color: #E2EBFA;\n",
              "      box-shadow: 0px 1px 2px rgba(60, 64, 67, 0.3), 0px 1px 3px 1px rgba(60, 64, 67, 0.15);\n",
              "      fill: #174EA6;\n",
              "    }\n",
              "\n",
              "    [theme=dark] .colab-df-convert {\n",
              "      background-color: #3B4455;\n",
              "      fill: #D2E3FC;\n",
              "    }\n",
              "\n",
              "    [theme=dark] .colab-df-convert:hover {\n",
              "      background-color: #434B5C;\n",
              "      box-shadow: 0px 1px 3px 1px rgba(0, 0, 0, 0.15);\n",
              "      filter: drop-shadow(0px 1px 2px rgba(0, 0, 0, 0.3));\n",
              "      fill: #FFFFFF;\n",
              "    }\n",
              "  </style>\n",
              "\n",
              "      <script>\n",
              "        const buttonEl =\n",
              "          document.querySelector('#df-a34cd732-26e9-4c64-b01d-1a0bb0267fcc button.colab-df-convert');\n",
              "        buttonEl.style.display =\n",
              "          google.colab.kernel.accessAllowed ? 'block' : 'none';\n",
              "\n",
              "        async function convertToInteractive(key) {\n",
              "          const element = document.querySelector('#df-a34cd732-26e9-4c64-b01d-1a0bb0267fcc');\n",
              "          const dataTable =\n",
              "            await google.colab.kernel.invokeFunction('convertToInteractive',\n",
              "                                                     [key], {});\n",
              "          if (!dataTable) return;\n",
              "\n",
              "          const docLinkHtml = 'Like what you see? Visit the ' +\n",
              "            '<a target=\"_blank\" href=https://colab.research.google.com/notebooks/data_table.ipynb>data table notebook</a>'\n",
              "            + ' to learn more about interactive tables.';\n",
              "          element.innerHTML = '';\n",
              "          dataTable['output_type'] = 'display_data';\n",
              "          await google.colab.output.renderOutput(dataTable, element);\n",
              "          const docLink = document.createElement('div');\n",
              "          docLink.innerHTML = docLinkHtml;\n",
              "          element.appendChild(docLink);\n",
              "        }\n",
              "      </script>\n",
              "    </div>\n",
              "  </div>\n",
              "  "
            ]
          },
          "metadata": {},
          "execution_count": 45
        }
      ]
    },
    {
      "cell_type": "markdown",
      "source": [
        "* Створіть функцію fill_avg_salary, яка повертатиме середнє значення заробітної плати на місяць. Використовуйте її для методу apply та створіть новий стовпчик \"avg\""
      ],
      "metadata": {
        "id": "limPniIlmX1d"
      }
    },
    {
      "cell_type": "code",
      "source": [
        "def fill_avg_salary(row):\n",
        "    return df_agg.mean()[0]"
      ],
      "metadata": {
        "id": "5YRWOxwRmZXn"
      },
      "execution_count": 57,
      "outputs": []
    },
    {
      "cell_type": "code",
      "source": [
        "python_data['avg'] = python_data.apply(fill_avg_salary, axis=1)"
      ],
      "metadata": {
        "colab": {
          "base_uri": "https://localhost:8080/"
        },
        "id": "kwO-J34jizBp",
        "outputId": "e3fe7652-3a6b-4eb2-f1f9-ee36aa93ce50"
      },
      "execution_count": 58,
      "outputs": [
        {
          "output_type": "stream",
          "name": "stderr",
          "text": [
            "<ipython-input-58-0cf8536ff211>:1: SettingWithCopyWarning: \n",
            "A value is trying to be set on a copy of a slice from a DataFrame.\n",
            "Try using .loc[row_indexer,col_indexer] = value instead\n",
            "\n",
            "See the caveats in the documentation: https://pandas.pydata.org/pandas-docs/stable/user_guide/indexing.html#returning-a-view-versus-a-copy\n",
            "  python_data['avg'] = python_data.apply(fill_avg_salary, axis=1)\n"
          ]
        }
      ]
    },
    {
      "cell_type": "code",
      "source": [
        "python_data.head(3)"
      ],
      "metadata": {
        "colab": {
          "base_uri": "https://localhost:8080/",
          "height": 376
        },
        "id": "QJwvItZOnRV8",
        "outputId": "6c722178-6497-42d3-c0f6-0c07bf92ad9a"
      },
      "execution_count": 60,
      "outputs": [
        {
          "output_type": "execute_result",
          "data": {
            "text/plain": [
              "     N                 Должность Язык.программирования Общий.опыт.работы  \\\n",
              "12  13         Software Engineer                Python                 1   \n",
              "68  69         Software Engineer                Python               1.5   \n",
              "87  88  Junior Software Engineer                Python               0.5   \n",
              "\n",
              "   Опыт.работы.на.текущем.месте  Зарплата.в.месяц  \\\n",
              "12             меньше 3 месяцев               800   \n",
              "68                          0.5               900   \n",
              "87                          0.5               600   \n",
              "\n",
              "    Изменение.зарплаты.за.12.месяцев Город Размер.компании    Тип.компании  \\\n",
              "12                               200  Киев   до 50 человек  Аутсорсинговая   \n",
              "68                               900  Киев   до 10 человек         Стартап   \n",
              "87                                 0  Киев   до 10 человек  Аутсорсинговая   \n",
              "\n",
              "    ... Возраст           Образование Еще.студент  Уровень.английского  \\\n",
              "12  ...      26                Высшее       False        ниже среднего   \n",
              "68  ...      21  Незаконченное высшее        True        выше среднего   \n",
              "87  ...      19  Незаконченное высшее        True        выше среднего   \n",
              "\n",
              "        Дата.заполнения                                         User.Agent  \\\n",
              "12  12/06/2017 13:05:54  Mozilla/5.0 (Windows NT 6.1; Win64; x64) Apple...   \n",
              "68  12/06/2017 13:11:17  Mozilla/5.0 (Windows NT 10.0; Win64; x64) Appl...   \n",
              "87  12/06/2017 13:12:25  Mozilla/5.0 (X11; Linux x86_64) AppleWebKit/53...   \n",
              "\n",
              "    exp  current_job_exp  salary     avg  \n",
              "12  1.0              0.0     800  4650.0  \n",
              "68  1.5              0.5     900  4650.0  \n",
              "87  0.5              0.5     600  4650.0  \n",
              "\n",
              "[3 rows x 21 columns]"
            ],
            "text/html": [
              "\n",
              "  <div id=\"df-b305e7cb-70e8-4d7d-b3c1-c56f16b291ad\">\n",
              "    <div class=\"colab-df-container\">\n",
              "      <div>\n",
              "<style scoped>\n",
              "    .dataframe tbody tr th:only-of-type {\n",
              "        vertical-align: middle;\n",
              "    }\n",
              "\n",
              "    .dataframe tbody tr th {\n",
              "        vertical-align: top;\n",
              "    }\n",
              "\n",
              "    .dataframe thead th {\n",
              "        text-align: right;\n",
              "    }\n",
              "</style>\n",
              "<table border=\"1\" class=\"dataframe\">\n",
              "  <thead>\n",
              "    <tr style=\"text-align: right;\">\n",
              "      <th></th>\n",
              "      <th>N</th>\n",
              "      <th>Должность</th>\n",
              "      <th>Язык.программирования</th>\n",
              "      <th>Общий.опыт.работы</th>\n",
              "      <th>Опыт.работы.на.текущем.месте</th>\n",
              "      <th>Зарплата.в.месяц</th>\n",
              "      <th>Изменение.зарплаты.за.12.месяцев</th>\n",
              "      <th>Город</th>\n",
              "      <th>Размер.компании</th>\n",
              "      <th>Тип.компании</th>\n",
              "      <th>...</th>\n",
              "      <th>Возраст</th>\n",
              "      <th>Образование</th>\n",
              "      <th>Еще.студент</th>\n",
              "      <th>Уровень.английского</th>\n",
              "      <th>Дата.заполнения</th>\n",
              "      <th>User.Agent</th>\n",
              "      <th>exp</th>\n",
              "      <th>current_job_exp</th>\n",
              "      <th>salary</th>\n",
              "      <th>avg</th>\n",
              "    </tr>\n",
              "  </thead>\n",
              "  <tbody>\n",
              "    <tr>\n",
              "      <th>12</th>\n",
              "      <td>13</td>\n",
              "      <td>Software Engineer</td>\n",
              "      <td>Python</td>\n",
              "      <td>1</td>\n",
              "      <td>меньше 3 месяцев</td>\n",
              "      <td>800</td>\n",
              "      <td>200</td>\n",
              "      <td>Киев</td>\n",
              "      <td>до 50 человек</td>\n",
              "      <td>Аутсорсинговая</td>\n",
              "      <td>...</td>\n",
              "      <td>26</td>\n",
              "      <td>Высшее</td>\n",
              "      <td>False</td>\n",
              "      <td>ниже среднего</td>\n",
              "      <td>12/06/2017 13:05:54</td>\n",
              "      <td>Mozilla/5.0 (Windows NT 6.1; Win64; x64) Apple...</td>\n",
              "      <td>1.0</td>\n",
              "      <td>0.0</td>\n",
              "      <td>800</td>\n",
              "      <td>4650.0</td>\n",
              "    </tr>\n",
              "    <tr>\n",
              "      <th>68</th>\n",
              "      <td>69</td>\n",
              "      <td>Software Engineer</td>\n",
              "      <td>Python</td>\n",
              "      <td>1.5</td>\n",
              "      <td>0.5</td>\n",
              "      <td>900</td>\n",
              "      <td>900</td>\n",
              "      <td>Киев</td>\n",
              "      <td>до 10 человек</td>\n",
              "      <td>Стартап</td>\n",
              "      <td>...</td>\n",
              "      <td>21</td>\n",
              "      <td>Незаконченное высшее</td>\n",
              "      <td>True</td>\n",
              "      <td>выше среднего</td>\n",
              "      <td>12/06/2017 13:11:17</td>\n",
              "      <td>Mozilla/5.0 (Windows NT 10.0; Win64; x64) Appl...</td>\n",
              "      <td>1.5</td>\n",
              "      <td>0.5</td>\n",
              "      <td>900</td>\n",
              "      <td>4650.0</td>\n",
              "    </tr>\n",
              "    <tr>\n",
              "      <th>87</th>\n",
              "      <td>88</td>\n",
              "      <td>Junior Software Engineer</td>\n",
              "      <td>Python</td>\n",
              "      <td>0.5</td>\n",
              "      <td>0.5</td>\n",
              "      <td>600</td>\n",
              "      <td>0</td>\n",
              "      <td>Киев</td>\n",
              "      <td>до 10 человек</td>\n",
              "      <td>Аутсорсинговая</td>\n",
              "      <td>...</td>\n",
              "      <td>19</td>\n",
              "      <td>Незаконченное высшее</td>\n",
              "      <td>True</td>\n",
              "      <td>выше среднего</td>\n",
              "      <td>12/06/2017 13:12:25</td>\n",
              "      <td>Mozilla/5.0 (X11; Linux x86_64) AppleWebKit/53...</td>\n",
              "      <td>0.5</td>\n",
              "      <td>0.5</td>\n",
              "      <td>600</td>\n",
              "      <td>4650.0</td>\n",
              "    </tr>\n",
              "  </tbody>\n",
              "</table>\n",
              "<p>3 rows × 21 columns</p>\n",
              "</div>\n",
              "      <button class=\"colab-df-convert\" onclick=\"convertToInteractive('df-b305e7cb-70e8-4d7d-b3c1-c56f16b291ad')\"\n",
              "              title=\"Convert this dataframe to an interactive table.\"\n",
              "              style=\"display:none;\">\n",
              "        \n",
              "  <svg xmlns=\"http://www.w3.org/2000/svg\" height=\"24px\"viewBox=\"0 0 24 24\"\n",
              "       width=\"24px\">\n",
              "    <path d=\"M0 0h24v24H0V0z\" fill=\"none\"/>\n",
              "    <path d=\"M18.56 5.44l.94 2.06.94-2.06 2.06-.94-2.06-.94-.94-2.06-.94 2.06-2.06.94zm-11 1L8.5 8.5l.94-2.06 2.06-.94-2.06-.94L8.5 2.5l-.94 2.06-2.06.94zm10 10l.94 2.06.94-2.06 2.06-.94-2.06-.94-.94-2.06-.94 2.06-2.06.94z\"/><path d=\"M17.41 7.96l-1.37-1.37c-.4-.4-.92-.59-1.43-.59-.52 0-1.04.2-1.43.59L10.3 9.45l-7.72 7.72c-.78.78-.78 2.05 0 2.83L4 21.41c.39.39.9.59 1.41.59.51 0 1.02-.2 1.41-.59l7.78-7.78 2.81-2.81c.8-.78.8-2.07 0-2.86zM5.41 20L4 18.59l7.72-7.72 1.47 1.35L5.41 20z\"/>\n",
              "  </svg>\n",
              "      </button>\n",
              "      \n",
              "  <style>\n",
              "    .colab-df-container {\n",
              "      display:flex;\n",
              "      flex-wrap:wrap;\n",
              "      gap: 12px;\n",
              "    }\n",
              "\n",
              "    .colab-df-convert {\n",
              "      background-color: #E8F0FE;\n",
              "      border: none;\n",
              "      border-radius: 50%;\n",
              "      cursor: pointer;\n",
              "      display: none;\n",
              "      fill: #1967D2;\n",
              "      height: 32px;\n",
              "      padding: 0 0 0 0;\n",
              "      width: 32px;\n",
              "    }\n",
              "\n",
              "    .colab-df-convert:hover {\n",
              "      background-color: #E2EBFA;\n",
              "      box-shadow: 0px 1px 2px rgba(60, 64, 67, 0.3), 0px 1px 3px 1px rgba(60, 64, 67, 0.15);\n",
              "      fill: #174EA6;\n",
              "    }\n",
              "\n",
              "    [theme=dark] .colab-df-convert {\n",
              "      background-color: #3B4455;\n",
              "      fill: #D2E3FC;\n",
              "    }\n",
              "\n",
              "    [theme=dark] .colab-df-convert:hover {\n",
              "      background-color: #434B5C;\n",
              "      box-shadow: 0px 1px 3px 1px rgba(0, 0, 0, 0.15);\n",
              "      filter: drop-shadow(0px 1px 2px rgba(0, 0, 0, 0.3));\n",
              "      fill: #FFFFFF;\n",
              "    }\n",
              "  </style>\n",
              "\n",
              "      <script>\n",
              "        const buttonEl =\n",
              "          document.querySelector('#df-b305e7cb-70e8-4d7d-b3c1-c56f16b291ad button.colab-df-convert');\n",
              "        buttonEl.style.display =\n",
              "          google.colab.kernel.accessAllowed ? 'block' : 'none';\n",
              "\n",
              "        async function convertToInteractive(key) {\n",
              "          const element = document.querySelector('#df-b305e7cb-70e8-4d7d-b3c1-c56f16b291ad');\n",
              "          const dataTable =\n",
              "            await google.colab.kernel.invokeFunction('convertToInteractive',\n",
              "                                                     [key], {});\n",
              "          if (!dataTable) return;\n",
              "\n",
              "          const docLinkHtml = 'Like what you see? Visit the ' +\n",
              "            '<a target=\"_blank\" href=https://colab.research.google.com/notebooks/data_table.ipynb>data table notebook</a>'\n",
              "            + ' to learn more about interactive tables.';\n",
              "          element.innerHTML = '';\n",
              "          dataTable['output_type'] = 'display_data';\n",
              "          await google.colab.output.renderOutput(dataTable, element);\n",
              "          const docLink = document.createElement('div');\n",
              "          docLink.innerHTML = docLinkHtml;\n",
              "          element.appendChild(docLink);\n",
              "        }\n",
              "      </script>\n",
              "    </div>\n",
              "  </div>\n",
              "  "
            ]
          },
          "metadata": {},
          "execution_count": 60
        }
      ]
    },
    {
      "cell_type": "markdown",
      "source": [
        "* Створіть описову статистику за допомогою методу describe для нового стовпчика."
      ],
      "metadata": {
        "id": "CXIw8R0RpbTX"
      }
    },
    {
      "cell_type": "code",
      "source": [
        "python_data['avg'].describe()"
      ],
      "metadata": {
        "colab": {
          "base_uri": "https://localhost:8080/"
        },
        "id": "ZpS_U5J_nRx0",
        "outputId": "b04828d3-82b2-4019-9a91-b2433d8347d7"
      },
      "execution_count": 61,
      "outputs": [
        {
          "output_type": "execute_result",
          "data": {
            "text/plain": [
              "count     207.0\n",
              "mean     4650.0\n",
              "std         0.0\n",
              "min      4650.0\n",
              "25%      4650.0\n",
              "50%      4650.0\n",
              "75%      4650.0\n",
              "max      4650.0\n",
              "Name: avg, dtype: float64"
            ]
          },
          "metadata": {},
          "execution_count": 61
        }
      ]
    },
    {
      "cell_type": "markdown",
      "source": [
        "* Збережіть отриману таблицю в CSV файл"
      ],
      "metadata": {
        "id": "8vnabJH2p82j"
      }
    },
    {
      "cell_type": "code",
      "source": [
        "python_data.to_csv('python_data.csv', index=False)"
      ],
      "metadata": {
        "id": "4EsgSgkSnR-A"
      },
      "execution_count": 62,
      "outputs": []
    },
    {
      "cell_type": "code",
      "source": [
        "sns.scatterplot(x=\"Возраст\", y=\"Зарплата.в.месяц\", data=python_data)"
      ],
      "metadata": {
        "colab": {
          "base_uri": "https://localhost:8080/",
          "height": 467
        },
        "id": "X0nIEzdHqxGC",
        "outputId": "0be18a2b-3e22-46dc-b4fb-7309464ea2ce"
      },
      "execution_count": 72,
      "outputs": [
        {
          "output_type": "execute_result",
          "data": {
            "text/plain": [
              "<Axes: xlabel='Возраст', ylabel='Зарплата.в.месяц'>"
            ]
          },
          "metadata": {},
          "execution_count": 72
        },
        {
          "output_type": "display_data",
          "data": {
            "text/plain": [
              "<Figure size 640x480 with 1 Axes>"
            ],
            "image/png": "[encoded data removed]"
          },
          "metadata": {}
        }
      ]
    },
    {
      "cell_type": "code",
      "source": [
        "sns.histplot(x=\"Зарплата.в.месяц\", hue=\"Город\", multiple=\"stack\", data=python_data)"
      ],
      "metadata": {
        "colab": {
          "base_uri": "https://localhost:8080/",
          "height": 486
        },
        "id": "h3Z4VljpqyQP",
        "outputId": "d1fd8b00-4cf2-46c1-d60b-46bf6e3f84e9"
      },
      "execution_count": 78,
      "outputs": [
        {
          "output_type": "execute_result",
          "data": {
            "text/plain": [
              "<Axes: xlabel='Зарплата.в.месяц', ylabel='Count'>"
            ]
          },
          "metadata": {},
          "execution_count": 78
        },
        {
          "output_type": "display_data",
          "data": {
            "text/plain": [
              "<Figure size 640x480 with 1 Axes>"
            ],
            "image/png": "[encoded data removed]"
          },
          "metadata": {}
        }
      ]
    },
    {
      "cell_type": "code",
      "source": [
        "sns.scatterplot(x=\"exp\", y=\"Зарплата.в.месяц\", data=python_data)"
      ],
      "metadata": {
        "colab": {
          "base_uri": "https://localhost:8080/",
          "height": 467
        },
        "id": "IEUfLscYqyTF",
        "outputId": "e0ee9ccc-82be-405b-8c31-668f7ae9d663"
      },
      "execution_count": 80,
      "outputs": [
        {
          "output_type": "execute_result",
          "data": {
            "text/plain": [
              "<Axes: xlabel='exp', ylabel='Зарплата.в.месяц'>"
            ]
          },
          "metadata": {},
          "execution_count": 80
        },
        {
          "output_type": "display_data",
          "data": {
            "text/plain": [
              "<Figure size 640x480 with 1 Axes>"
            ],
            "image/png": "[encoded data removed]"
          },
          "metadata": {}
        }
      ]
    },
    {
      "cell_type": "code",
      "source": [
        "sns.boxplot(x=\"Тип.компании\", y=\"Зарплата.в.месяц\", data=python_data)"
      ],
      "metadata": {
        "colab": {
          "base_uri": "https://localhost:8080/",
          "height": 467
        },
        "id": "2jJOzVd-tqaX",
        "outputId": "519f6625-7a33-49a5-8650-a9316c6b7d1f"
      },
      "execution_count": 82,
      "outputs": [
        {
          "output_type": "execute_result",
          "data": {
            "text/plain": [
              "<Axes: xlabel='Тип.компании', ylabel='Зарплата.в.месяц'>"
            ]
          },
          "metadata": {},
          "execution_count": 82
        },
        {
          "output_type": "display_data",
          "data": {
            "text/plain": [
              "<Figure size 640x480 with 1 Axes>"
            ],
            "image/png": "[encoded data removed]"
          },
          "metadata": {}
        }
      ]
    },
    {
      "cell_type": "code",
      "source": [
        "sns.lineplot(x=\"Дата.заполнения\", y=\"Изменение.зарплаты.за.12.месяцев\", data=python_data)\n"
      ],
      "metadata": {
        "colab": {
          "base_uri": "https://localhost:8080/",
          "height": 467
        },
        "id": "uH48duUVtqrT",
        "outputId": "fb1599b8-326a-4049-a297-6a1a4f02c767"
      },
      "execution_count": 84,
      "outputs": [
        {
          "output_type": "execute_result",
          "data": {
            "text/plain": [
              "<Axes: xlabel='Дата.заполнения', ylabel='Изменение.зарплаты.за.12.месяцев'>"
            ]
          },
          "metadata": {},
          "execution_count": 84
        },
        {
          "output_type": "display_data",
          "data": {
            "text/plain": [
              "<Figure size 640x480 with 1 Axes>"
            ],
            "image/png": "[encoded data removed]"
          },
          "metadata": {}
        }
      ]
    }
  ]
}
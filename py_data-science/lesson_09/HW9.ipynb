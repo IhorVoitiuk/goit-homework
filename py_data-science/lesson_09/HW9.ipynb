{
  "nbformat": 4,
  "nbformat_minor": 0,
  "metadata": {
    "colab": {
      "provenance": []
    },
    "kernelspec": {
      "name": "python3",
      "display_name": "Python 3"
    },
    "language_info": {
      "name": "python"
    }
  },
  "cells": [
    {
      "cell_type": "markdown",
      "source": [
        "#Домашнє завдання\n",
        "###В якості домашнього завдання вам пропонується створити нейронну мережу за допомогою механізмів Keras, яка буде класифікувати товари із датасету fasion_mnist.\n",
        "\n",
        "Вам належить запропонувати свою власну архітектуру мережі. Точність найнаївнішої, але адекватної нейромережі становить приблизно 91%. Точність вашої моделі повинна бути не нижчою за цей показник. Щоб досягти таких значень вам знадобиться поекспериментувати з гіперпараметрами мережі:\n",
        "\n",
        "- кількість шарів;\n",
        "\n",
        "- кількість нейронів;\n",
        "\n",
        "- функції активації;\n",
        "\n",
        "- кількість епох;\n",
        "\n",
        "- розмір батчу;\n",
        "\n",
        "- вибір оптимізатора;\n",
        "\n",
        "- різні техніки регуляризації і т.д.\n",
        "\n",
        "Використайте вивчені техніки виявлення проблем навчання нейронної мережі, і потім поекспериментуйте."
      ],
      "metadata": {
        "id": "jjBDDMVbhKMA"
      }
    },
    {
      "cell_type": "code",
      "execution_count": 223,
      "metadata": {
        "id": "-DVwxReJgcT1"
      },
      "outputs": [],
      "source": [
        "import tensorflow as tf\n",
        "from tensorflow.keras.datasets import fashion_mnist"
      ]
    },
    {
      "cell_type": "markdown",
      "source": [
        "Завантаження та підготовка даних"
      ],
      "metadata": {
        "id": "RfSM_6TshxRl"
      }
    },
    {
      "cell_type": "code",
      "source": [
        "(x_train, y_train), (x_test, y_test) = fashion_mnist.load_data()"
      ],
      "metadata": {
        "id": "8K7jhegyhpF6"
      },
      "execution_count": 224,
      "outputs": []
    },
    {
      "cell_type": "markdown",
      "source": [
        "Нормалізація даних"
      ],
      "metadata": {
        "id": "N-NnJaYnxDP8"
      }
    },
    {
      "cell_type": "code",
      "source": [
        "x_train = x_train / 255.0\n",
        "x_test = x_test / 255.0"
      ],
      "metadata": {
        "id": "f4sSryiXxB0V"
      },
      "execution_count": 225,
      "outputs": []
    },
    {
      "cell_type": "markdown",
      "source": [
        "Побудова моделі"
      ],
      "metadata": {
        "id": "bjGT7TGdiAcr"
      }
    },
    {
      "cell_type": "code",
      "source": [
        "model = tf.keras.Sequential([\n",
        "    tf.keras.layers.Flatten(input_shape=(28, 28)),\n",
        "    tf.keras.layers.Dense(256, activation='relu'),\n",
        "    tf.keras.layers.Dense(128, activation='relu'),\n",
        "    tf.keras.layers.Dense(10, activation='softmax')\n",
        "])"
      ],
      "metadata": {
        "id": "DuQVXK5PhpIv"
      },
      "execution_count": 226,
      "outputs": []
    },
    {
      "cell_type": "markdown",
      "source": [
        " Компіляція моделі"
      ],
      "metadata": {
        "id": "VBW3wYZ1iLxM"
      }
    },
    {
      "cell_type": "code",
      "source": [
        "model.compile(optimizer='adam',\n",
        "              loss='sparse_categorical_crossentropy',\n",
        "              metrics=['accuracy'])"
      ],
      "metadata": {
        "id": "UfnfCq9PhpLW"
      },
      "execution_count": 227,
      "outputs": []
    },
    {
      "cell_type": "markdown",
      "source": [
        "Навчання моделі"
      ],
      "metadata": {
        "id": "yBly92pmi8q4"
      }
    },
    {
      "cell_type": "code",
      "source": [
        "model.fit(x_train, y_train, epochs=20, batch_size=128, validation_data=(x_test, y_test))"
      ],
      "metadata": {
        "colab": {
          "base_uri": "https://localhost:8080/"
        },
        "id": "rxk4yzNIiKkW",
        "outputId": "a4c0496e-3670-459d-dd4a-917cbd83f620"
      },
      "execution_count": 228,
      "outputs": [
        {
          "output_type": "stream",
          "name": "stdout",
          "text": [
            "Epoch 1/20\n",
            "469/469 [==============================] - 5s 9ms/step - loss: 0.5104 - accuracy: 0.8201 - val_loss: 0.4440 - val_accuracy: 0.8428\n",
            "Epoch 2/20\n",
            "469/469 [==============================] - 4s 7ms/step - loss: 0.3686 - accuracy: 0.8665 - val_loss: 0.3693 - val_accuracy: 0.8662\n",
            "Epoch 3/20\n",
            "469/469 [==============================] - 4s 9ms/step - loss: 0.3272 - accuracy: 0.8794 - val_loss: 0.3725 - val_accuracy: 0.8679\n",
            "Epoch 4/20\n",
            "469/469 [==============================] - 5s 10ms/step - loss: 0.3027 - accuracy: 0.8879 - val_loss: 0.3564 - val_accuracy: 0.8724\n",
            "Epoch 5/20\n",
            "469/469 [==============================] - 3s 7ms/step - loss: 0.2853 - accuracy: 0.8948 - val_loss: 0.3523 - val_accuracy: 0.8773\n",
            "Epoch 6/20\n",
            "469/469 [==============================] - 3s 7ms/step - loss: 0.2707 - accuracy: 0.8989 - val_loss: 0.3486 - val_accuracy: 0.8780\n",
            "Epoch 7/20\n",
            "469/469 [==============================] - 4s 9ms/step - loss: 0.2583 - accuracy: 0.9048 - val_loss: 0.3470 - val_accuracy: 0.8818\n",
            "Epoch 8/20\n",
            "469/469 [==============================] - 3s 7ms/step - loss: 0.2478 - accuracy: 0.9071 - val_loss: 0.3354 - val_accuracy: 0.8797\n",
            "Epoch 9/20\n",
            "469/469 [==============================] - 3s 7ms/step - loss: 0.2375 - accuracy: 0.9109 - val_loss: 0.3288 - val_accuracy: 0.8874\n",
            "Epoch 10/20\n",
            "469/469 [==============================] - 4s 8ms/step - loss: 0.2263 - accuracy: 0.9140 - val_loss: 0.3360 - val_accuracy: 0.8860\n",
            "Epoch 11/20\n",
            "469/469 [==============================] - 4s 9ms/step - loss: 0.2193 - accuracy: 0.9167 - val_loss: 0.3251 - val_accuracy: 0.8890\n",
            "Epoch 12/20\n",
            "469/469 [==============================] - 3s 7ms/step - loss: 0.2087 - accuracy: 0.9208 - val_loss: 0.3335 - val_accuracy: 0.8869\n",
            "Epoch 13/20\n",
            "469/469 [==============================] - 3s 7ms/step - loss: 0.2009 - accuracy: 0.9244 - val_loss: 0.3165 - val_accuracy: 0.8938\n",
            "Epoch 14/20\n",
            "469/469 [==============================] - 5s 10ms/step - loss: 0.1933 - accuracy: 0.9271 - val_loss: 0.3356 - val_accuracy: 0.8886\n",
            "Epoch 15/20\n",
            "469/469 [==============================] - 3s 7ms/step - loss: 0.1872 - accuracy: 0.9285 - val_loss: 0.3252 - val_accuracy: 0.8936\n",
            "Epoch 16/20\n",
            "469/469 [==============================] - 4s 8ms/step - loss: 0.1781 - accuracy: 0.9318 - val_loss: 0.3489 - val_accuracy: 0.8897\n",
            "Epoch 17/20\n",
            "469/469 [==============================] - 4s 8ms/step - loss: 0.1761 - accuracy: 0.9337 - val_loss: 0.3807 - val_accuracy: 0.8787\n",
            "Epoch 18/20\n",
            "469/469 [==============================] - 4s 9ms/step - loss: 0.1735 - accuracy: 0.9334 - val_loss: 0.3385 - val_accuracy: 0.8896\n",
            "Epoch 19/20\n",
            "469/469 [==============================] - 3s 7ms/step - loss: 0.1635 - accuracy: 0.9375 - val_loss: 0.3525 - val_accuracy: 0.8929\n",
            "Epoch 20/20\n",
            "469/469 [==============================] - 3s 7ms/step - loss: 0.1573 - accuracy: 0.9405 - val_loss: 0.3551 - val_accuracy: 0.8938\n"
          ]
        },
        {
          "output_type": "execute_result",
          "data": {
            "text/plain": [
              "<keras.callbacks.History at 0x7feea70f2560>"
            ]
          },
          "metadata": {},
          "execution_count": 228
        }
      ]
    },
    {
      "cell_type": "markdown",
      "source": [
        "Оцінка точності на тестових даних"
      ],
      "metadata": {
        "id": "66HWruTTjE5v"
      }
    },
    {
      "cell_type": "code",
      "source": [
        "test_loss, test_accuracy = model.evaluate(x_test, y_test, verbose=2)"
      ],
      "metadata": {
        "colab": {
          "base_uri": "https://localhost:8080/"
        },
        "id": "q2OBRqwHhpOP",
        "outputId": "741b99d1-b364-4b1f-9108-d6df78e3586a"
      },
      "execution_count": 231,
      "outputs": [
        {
          "output_type": "stream",
          "name": "stdout",
          "text": [
            "313/313 - 1s - loss: 0.3551 - accuracy: 0.8938 - 568ms/epoch - 2ms/step\n"
          ]
        }
      ]
    },
    {
      "cell_type": "code",
      "source": [
        "print(f\"Точність на тестових даних: {test_accuracy}\")"
      ],
      "metadata": {
        "colab": {
          "base_uri": "https://localhost:8080/"
        },
        "id": "HwXa_pBhhpRF",
        "outputId": "3109a2e8-fdbe-49b5-95b7-7d1bae6fcb11"
      },
      "execution_count": 232,
      "outputs": [
        {
          "output_type": "stream",
          "name": "stdout",
          "text": [
            "Точність на тестових даних: 0.8938000202178955\n"
          ]
        }
      ]
    },
    {
      "cell_type": "code",
      "source": [],
      "metadata": {
        "id": "th7tADsqhpS5"
      },
      "execution_count": null,
      "outputs": []
    }
  ]
}
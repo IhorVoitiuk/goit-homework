{
  "nbformat": 4,
  "nbformat_minor": 0,
  "metadata": {
    "colab": {
      "provenance": []
    },
    "kernelspec": {
      "name": "python3",
      "display_name": "Python 3"
    },
    "language_info": {
      "name": "python"
    }
  },
  "cells": [
    {
      "cell_type": "markdown",
      "source": [
        "#Домашнє завдання\n",
        "В якості домашнього завдання вам пропонується створити рекурентну нейронну мережу за допомогою механізмів Keras, яка буде класифікувати рецензії із датасету imdb.\n",
        "\n",
        "На відміну від прикладу в модулі 9 ми використаємо рекурентну нейронну мережу. Поекспериментуйте з будовою мережі - RNN, LSTM, двостороння та глибока.\n",
        "\n",
        "Порівняйте результати та зробіть висновки."
      ],
      "metadata": {
        "id": "fWuKTgThQmLO"
      }
    },
    {
      "cell_type": "markdown",
      "source": [
        "##LSTM (Long Short-Term Memory)"
      ],
      "metadata": {
        "id": "F_7xV3qiy2dG"
      }
    },
    {
      "cell_type": "code",
      "source": [
        "from tensorflow.keras.datasets import imdb\n",
        "from tensorflow.keras.preprocessing import sequence\n",
        "from tensorflow.keras.models import Sequential\n",
        "from tensorflow.keras.layers import Embedding, LSTM, Dense"
      ],
      "metadata": {
        "id": "y0EtSp6jQOZ6"
      },
      "execution_count": 12,
      "outputs": []
    },
    {
      "cell_type": "code",
      "source": [
        "(x_train, y_train), (x_test, y_test) = imdb.load_data(num_words=5000)"
      ],
      "metadata": {
        "id": "RvSIsqW_QOpR"
      },
      "execution_count": 13,
      "outputs": []
    },
    {
      "cell_type": "code",
      "source": [
        "max_words = 500\n",
        "x_train = sequence.pad_sequences(x_train, maxlen=max_words)\n",
        "x_test = sequence.pad_sequences(x_test, maxlen=max_words)"
      ],
      "metadata": {
        "id": "XEbblMEUQTeZ"
      },
      "execution_count": 14,
      "outputs": []
    },
    {
      "cell_type": "code",
      "source": [
        "model = Sequential()\n",
        "model.add(Embedding(5000, 32, input_length=max_words))\n",
        "model.add(LSTM(100))\n",
        "model.add(Dense(1, activation='sigmoid'))"
      ],
      "metadata": {
        "id": "cluHe7OkQThw"
      },
      "execution_count": 15,
      "outputs": []
    },
    {
      "cell_type": "code",
      "source": [
        "model.compile(loss='binary_crossentropy', optimizer='adam', metrics=['accuracy'])"
      ],
      "metadata": {
        "id": "2w_5MFw1QTko"
      },
      "execution_count": 16,
      "outputs": []
    },
    {
      "cell_type": "code",
      "source": [
        "model.fit(x_train, y_train, validation_data=(x_test, y_test), epochs=5, batch_size=64)"
      ],
      "metadata": {
        "colab": {
          "base_uri": "https://localhost:8080/"
        },
        "id": "__ShpoBwQTnh",
        "outputId": "6aa68bc7-e659-494b-ccaa-4e7d1c4e59ee"
      },
      "execution_count": 17,
      "outputs": [
        {
          "output_type": "stream",
          "name": "stdout",
          "text": [
            "Epoch 1/5\n",
            "391/391 [==============================] - 456s 1s/step - loss: 0.5155 - accuracy: 0.7409 - val_loss: 0.3812 - val_accuracy: 0.8387\n",
            "Epoch 2/5\n",
            "391/391 [==============================] - 451s 1s/step - loss: 0.3231 - accuracy: 0.8662 - val_loss: 0.3353 - val_accuracy: 0.8594\n",
            "Epoch 3/5\n",
            "391/391 [==============================] - 447s 1s/step - loss: 0.2505 - accuracy: 0.9012 - val_loss: 0.3234 - val_accuracy: 0.8647\n",
            "Epoch 4/5\n",
            "391/391 [==============================] - 449s 1s/step - loss: 0.2214 - accuracy: 0.9142 - val_loss: 0.3365 - val_accuracy: 0.8652\n",
            "Epoch 5/5\n",
            "391/391 [==============================] - 439s 1s/step - loss: 0.2003 - accuracy: 0.9236 - val_loss: 0.3567 - val_accuracy: 0.8533\n"
          ]
        },
        {
          "output_type": "execute_result",
          "data": {
            "text/plain": [
              "<keras.callbacks.History at 0x7ec65817a350>"
            ]
          },
          "metadata": {},
          "execution_count": 17
        }
      ]
    },
    {
      "cell_type": "code",
      "source": [
        "_, accuracy = model.evaluate(x_test, y_test)"
      ],
      "metadata": {
        "colab": {
          "base_uri": "https://localhost:8080/"
        },
        "id": "LzpaKCqyQTqX",
        "outputId": "4243c98b-8cfd-44aa-8c83-690e9965f29f"
      },
      "execution_count": 9,
      "outputs": [
        {
          "output_type": "stream",
          "name": "stdout",
          "text": [
            "782/782 [==============================] - 99s 126ms/step - loss: 0.3339 - accuracy: 0.8728\n"
          ]
        }
      ]
    },
    {
      "cell_type": "code",
      "source": [
        "print('Accuracy:', accuracy)"
      ],
      "metadata": {
        "colab": {
          "base_uri": "https://localhost:8080/"
        },
        "id": "Yswn7YbwQTst",
        "outputId": "7145f078-af50-4972-b905-c45374d79f8e"
      },
      "execution_count": 10,
      "outputs": [
        {
          "metadata": {
            "tags": null
          },
          "name": "stdout",
          "output_type": "stream",
          "text": [
            "Accuracy: 0.872759997844696\n"
          ]
        }
      ]
    },
    {
      "cell_type": "markdown",
      "source": [
        "##Recurrent neural networks (RNN)"
      ],
      "metadata": {
        "id": "wRnB0JtD1J1H"
      }
    },
    {
      "cell_type": "code",
      "source": [
        "from tensorflow.keras.layers import SimpleRNN"
      ],
      "metadata": {
        "id": "73GmKlsJQTvE"
      },
      "execution_count": 18,
      "outputs": []
    },
    {
      "cell_type": "code",
      "source": [
        "model_rnn = Sequential()\n",
        "model_rnn.add(Embedding(5000, 32, input_length=max_words))\n",
        "model_rnn.add(SimpleRNN(100))\n",
        "model_rnn.add(Dense(1, activation='sigmoid'))"
      ],
      "metadata": {
        "id": "--7IVq4F1oMy"
      },
      "execution_count": 19,
      "outputs": []
    },
    {
      "cell_type": "code",
      "source": [
        "model_rnn.compile(loss='binary_crossentropy', optimizer='adam', metrics=['accuracy'])\n"
      ],
      "metadata": {
        "id": "gkh_MfIJ1oPp"
      },
      "execution_count": 20,
      "outputs": []
    },
    {
      "cell_type": "code",
      "source": [
        "model_rnn.fit(x_train, y_train, validation_data=(x_test, y_test), epochs=5, batch_size=64)"
      ],
      "metadata": {
        "id": "eq8Yjp431oSx",
        "outputId": "de61475a-ef85-4582-c249-f4b61bf6d4ac",
        "colab": {
          "base_uri": "https://localhost:8080/"
        }
      },
      "execution_count": 21,
      "outputs": [
        {
          "output_type": "stream",
          "name": "stdout",
          "text": [
            "Epoch 1/5\n",
            "391/391 [==============================] - 130s 328ms/step - loss: 0.5981 - accuracy: 0.6632 - val_loss: 0.4637 - val_accuracy: 0.8034\n",
            "Epoch 2/5\n",
            "391/391 [==============================] - 128s 328ms/step - loss: 0.4076 - accuracy: 0.8204 - val_loss: 0.5119 - val_accuracy: 0.7496\n",
            "Epoch 3/5\n",
            "391/391 [==============================] - 128s 327ms/step - loss: 0.5215 - accuracy: 0.7241 - val_loss: 0.6246 - val_accuracy: 0.6266\n",
            "Epoch 4/5\n",
            "391/391 [==============================] - 131s 335ms/step - loss: 0.5823 - accuracy: 0.6843 - val_loss: 0.5836 - val_accuracy: 0.6837\n",
            "Epoch 5/5\n",
            "391/391 [==============================] - 129s 331ms/step - loss: 0.4136 - accuracy: 0.8156 - val_loss: 0.4592 - val_accuracy: 0.8008\n"
          ]
        },
        {
          "output_type": "execute_result",
          "data": {
            "text/plain": [
              "<keras.callbacks.History at 0x7ec659af3fa0>"
            ]
          },
          "metadata": {},
          "execution_count": 21
        }
      ]
    },
    {
      "cell_type": "code",
      "source": [
        "_rnn, accuracy_rnn = model_rnn.evaluate(x_test, y_test)"
      ],
      "metadata": {
        "id": "-h1rfa7D2vMc",
        "outputId": "8435f086-5509-44cc-cb95-77dbca62768e",
        "colab": {
          "base_uri": "https://localhost:8080/"
        }
      },
      "execution_count": 22,
      "outputs": [
        {
          "output_type": "stream",
          "name": "stdout",
          "text": [
            "782/782 [==============================] - 34s 43ms/step - loss: 0.4592 - accuracy: 0.8008\n"
          ]
        }
      ]
    },
    {
      "cell_type": "code",
      "source": [
        "print('Accuracy RNN:', accuracy_rnn)"
      ],
      "metadata": {
        "id": "abdrhBnz2v7k",
        "outputId": "fd2396f6-16fb-4a3c-98ff-8c96b117d143",
        "colab": {
          "base_uri": "https://localhost:8080/"
        }
      },
      "execution_count": 23,
      "outputs": [
        {
          "output_type": "stream",
          "name": "stdout",
          "text": [
            "Accuracy RNN: 0.8007599711418152\n"
          ]
        }
      ]
    },
    {
      "cell_type": "markdown",
      "source": [
        "###Висновок\n",
        "Порівнявши результати двох рекурентних шарів, LSTM та SimpleRNN, на датасеті IMDb, отримали такі результати:\n",
        "\n",
        "- LSTM: Accuracy = 0.872759997844696\n",
        "- SimpleRNN: Accuracy = 0.8007599711418152\n",
        "За результатами можна зробити наступні висновки:\n",
        "\n",
        "1. LSTM показує кращі результати точності класифікації порівняно з SimpleRNN на датасеті IMDb. Це може бути пов'язано з тим, що LSTM здатна краще управляти довгостроковими залежностями, що часто зустрічаються в текстових даних.\n",
        "\n",
        "2. Використання LSTM у рекурентних нейронних мережах може допомогти покращити точність класифікації текстових даних, таких як рецензії. Він зберігає інформацію про довгострокові залежності у тексті, що дозволяє краще розуміти контекст та зміст рецензій.\n",
        "\n",
        "3. SimpleRNN, хоча менш потужний за LSTM, все ще може бути корисним у випадках, де важлива швидкість навчання та ефективність моделі. Він може дати задовільні результати для деяких простіших текстових завдань.\n",
        "\n",
        "Загалом, використання LSTM у рекурентних нейронних мережах показує переваги у точності класифікації текстових даних, особливо у випадку аналізу рецензій."
      ],
      "metadata": {
        "id": "TeQf6-vtAxVF"
      }
    }
  ]
}
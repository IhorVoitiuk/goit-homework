{
  "nbformat": 4,
  "nbformat_minor": 0,
  "metadata": {
    "colab": {
      "provenance": []
    },
    "kernelspec": {
      "name": "python3",
      "display_name": "Python 3"
    },
    "language_info": {
      "name": "python"
    }
  },
  "cells": [
    {
      "cell_type": "code",
      "execution_count": 2,
      "metadata": {
        "colab": {
          "base_uri": "https://localhost:8080/"
        },
        "id": "-b4P_b6gjrFH",
        "outputId": "de306c14-f08c-4a78-ef96-969e5fc7c464"
      },
      "outputs": [
        {
          "output_type": "stream",
          "name": "stdout",
          "text": [
            "Looking in indexes: https://pypi.org/simple, https://us-python.pkg.dev/colab-wheels/public/simple/\n",
            "Requirement already satisfied: numpy in /usr/local/lib/python3.9/dist-packages (1.22.4)\n"
          ]
        }
      ],
      "source": [
        "!pip install numpy"
      ]
    },
    {
      "cell_type": "code",
      "source": [
        "import numpy as np"
      ],
      "metadata": {
        "id": "12gWciUfljgd"
      },
      "execution_count": 3,
      "outputs": []
    },
    {
      "cell_type": "markdown",
      "source": [
        "1. Створіть одновимірний масив (вектор) з першими 10-ма натуральними числами та виведіть його значення."
      ],
      "metadata": {
        "id": "3yt84DHjuGHA"
      }
    },
    {
      "cell_type": "code",
      "source": [
        "vector = np.arange(1, 11)"
      ],
      "metadata": {
        "id": "y4Ew8C-Ajt1_"
      },
      "execution_count": 4,
      "outputs": []
    },
    {
      "cell_type": "code",
      "source": [
        "vector"
      ],
      "metadata": {
        "colab": {
          "base_uri": "https://localhost:8080/"
        },
        "id": "3Z27kMsUjt79",
        "outputId": "163441ca-b620-4bcd-b180-d95207f43e12"
      },
      "execution_count": 5,
      "outputs": [
        {
          "output_type": "execute_result",
          "data": {
            "text/plain": [
              "array([ 1,  2,  3,  4,  5,  6,  7,  8,  9, 10])"
            ]
          },
          "metadata": {},
          "execution_count": 5
        }
      ]
    },
    {
      "cell_type": "markdown",
      "source": [
        "2. Створіть двовимірний масив (матрицю) розміром 3x3, заповніть його нулями та виведіть його значення.\n"
      ],
      "metadata": {
        "id": "D2uX1sOrvMkX"
      }
    },
    {
      "cell_type": "code",
      "source": [
        "matrix_zero = np.zeros((3, 3))"
      ],
      "metadata": {
        "id": "oAoukmzfjuES"
      },
      "execution_count": 6,
      "outputs": []
    },
    {
      "cell_type": "code",
      "source": [
        "matrix_zero\n"
      ],
      "metadata": {
        "colab": {
          "base_uri": "https://localhost:8080/"
        },
        "id": "NCfa8UQWvh4v",
        "outputId": "ed5819c6-e091-4290-b89a-5b2e55c7afec"
      },
      "execution_count": 7,
      "outputs": [
        {
          "output_type": "execute_result",
          "data": {
            "text/plain": [
              "array([[0., 0., 0.],\n",
              "       [0., 0., 0.],\n",
              "       [0., 0., 0.]])"
            ]
          },
          "metadata": {},
          "execution_count": 7
        }
      ]
    },
    {
      "cell_type": "markdown",
      "source": [
        "3. Створіть масив розміром 5x5, заповніть його випадковими цілими числами в діапазоні від 1 до 10 та виведіть його значення."
      ],
      "metadata": {
        "id": "6iAN3wt0vmOA"
      }
    },
    {
      "cell_type": "code",
      "source": [
        "random_array = np.random.randint(1, 11, size=(5, 5))\n",
        "print(random_array)"
      ],
      "metadata": {
        "colab": {
          "base_uri": "https://localhost:8080/"
        },
        "id": "gmlYd51uvvbk",
        "outputId": "c053d99f-e37f-4647-d536-dd12bcb31f8a"
      },
      "execution_count": 14,
      "outputs": [
        {
          "output_type": "stream",
          "name": "stdout",
          "text": [
            "[[ 8  7  1  2 10]\n",
            " [ 9  1  6  2  8]\n",
            " [ 7  4  5  7  5]\n",
            " [10  4  1  8  6]\n",
            " [ 3  7  2 10 10]]\n"
          ]
        }
      ]
    },
    {
      "cell_type": "markdown",
      "source": [
        "4. Створіть масив розміром 4x4, заповніть його випадковими дійсними числами в діапазоні від 0 до 1 та виведіть його значення."
      ],
      "metadata": {
        "id": "pQjW2t9Cwe_B"
      }
    },
    {
      "cell_type": "code",
      "source": [
        "random_array = np.random.randint(0, 2, size=(4, 4))\n",
        "print(random_array)"
      ],
      "metadata": {
        "colab": {
          "base_uri": "https://localhost:8080/"
        },
        "id": "oijLY2cowjor",
        "outputId": "1666f5b1-e66a-4af1-e429-e69666a11119"
      },
      "execution_count": 15,
      "outputs": [
        {
          "output_type": "stream",
          "name": "stdout",
          "text": [
            "[[0 1 0 1]\n",
            " [0 0 0 0]\n",
            " [1 0 1 1]\n",
            " [1 0 1 1]]\n"
          ]
        }
      ]
    },
    {
      "cell_type": "markdown",
      "source": [
        "5. Створіть два одновимірних масиви розміром 5, заповніть їх випадковими цілими числами в діапазоні від 1 до 10 та виконайте на них поелементні операції додавання, віднімання та множення."
      ],
      "metadata": {
        "id": "umTvnnETw32r"
      }
    },
    {
      "cell_type": "code",
      "source": [
        "a = np.random.randint(1, 11, size=5)\n",
        "b = np.random.randint(1, 11, size=5)\n",
        "print(a)\n",
        "print(b)\n",
        "print(a + b)\n",
        "print(a - b)\n",
        "print(a * b)"
      ],
      "metadata": {
        "colab": {
          "base_uri": "https://localhost:8080/"
        },
        "id": "ueFese7Aw8A2",
        "outputId": "fca0b032-d69d-4c27-c55c-ed3641b7d246"
      },
      "execution_count": 16,
      "outputs": [
        {
          "output_type": "stream",
          "name": "stdout",
          "text": [
            "[5 8 5 9 7]\n",
            "[10  3  7  1  8]\n",
            "[15 11 12 10 15]\n",
            "[-5  5 -2  8 -1]\n",
            "[50 24 35  9 56]\n"
          ]
        }
      ]
    },
    {
      "cell_type": "markdown",
      "source": [
        "6. Створіть два вектори розміром 7, заповніть довільними числами та знайдіть їх скалярний добуток."
      ],
      "metadata": {
        "id": "3RHrkPhBxm6r"
      }
    },
    {
      "cell_type": "code",
      "source": [
        "vector1 = np.array([2, 5, 8, 3, 1, 6, 7])\n",
        "vector2 = np.array([9, 1, 4, 7, 6, 5, 2])\n",
        "scalar = np.dot(vector1, vector2)\n",
        "scalar"
      ],
      "metadata": {
        "colab": {
          "base_uri": "https://localhost:8080/"
        },
        "id": "1ievNZ2DxrqD",
        "outputId": "1e9053bc-bd30-4f2a-ffba-80eb4c8dd2f2"
      },
      "execution_count": 20,
      "outputs": [
        {
          "output_type": "execute_result",
          "data": {
            "text/plain": [
              "126"
            ]
          },
          "metadata": {},
          "execution_count": 20
        }
      ]
    },
    {
      "cell_type": "markdown",
      "source": [
        "7. Створіть дві матриці розміром 2x2 та 2x3, заповніть їх випадковими цілими числами в діапазоні від 1 до 10 та перемножте їх між собою."
      ],
      "metadata": {
        "id": "akPmwoM0y-YV"
      }
    },
    {
      "cell_type": "code",
      "source": [
        "matrix1 = np.random.randint(1, 11, size=(2, 2))\n",
        "matrix2 = np.random.randint(1, 11, size=(2, 3))\n",
        "\n",
        "print(\"Matrix 1:\\n\", matrix1)\n",
        "print(\"Matrix 2:\\n\", matrix2)\n",
        "\n",
        "result = np.dot(matrix1, matrix2)\n",
        "\n",
        "print(\"Result:\\n\", result)"
      ],
      "metadata": {
        "colab": {
          "base_uri": "https://localhost:8080/"
        },
        "id": "S4knxjjKzDKS",
        "outputId": "96bd3550-f11d-4d0d-ab6f-58f580353f99"
      },
      "execution_count": 25,
      "outputs": [
        {
          "output_type": "stream",
          "name": "stdout",
          "text": [
            "Matrix 1:\n",
            " [[ 6 10]\n",
            " [ 1  1]]\n",
            "Matrix 2:\n",
            " [[ 5  5  2]\n",
            " [ 3  5 10]]\n",
            "Result:\n",
            " [[ 60  80 112]\n",
            " [  8  10  12]]\n"
          ]
        }
      ]
    },
    {
      "cell_type": "code",
      "source": [],
      "metadata": {
        "id": "ZMQTUqvM0dpe"
      },
      "execution_count": null,
      "outputs": []
    },
    {
      "cell_type": "markdown",
      "source": [
        "8. Створіть матрицю розміром 3x3, заповніть її випадковими цілими числами в діапазоні від 1 до 10 та знайдіть її обернену матрицю."
      ],
      "metadata": {
        "id": "XZO1SMNn0Yh5"
      }
    },
    {
      "cell_type": "code",
      "source": [
        "matrix = np.random.randint(1, 11, size=(3, 3))\n",
        "print(matrix, \"\\n\")\n",
        "print(np.linalg.inv(matrix))"
      ],
      "metadata": {
        "colab": {
          "base_uri": "https://localhost:8080/"
        },
        "id": "56_TzbFJzbgs",
        "outputId": "54f03721-bf13-45e4-a37c-abbd9cb89623"
      },
      "execution_count": 31,
      "outputs": [
        {
          "output_type": "stream",
          "name": "stdout",
          "text": [
            "[[ 4  7  1]\n",
            " [ 8  2  4]\n",
            " [ 9  1 10]] \n",
            "\n",
            "[[-0.06299213  0.27165354 -0.1023622 ]\n",
            " [ 0.17322835 -0.12204724  0.03149606]\n",
            " [ 0.03937008 -0.23228346  0.18897638]]\n"
          ]
        }
      ]
    },
    {
      "cell_type": "markdown",
      "source": [
        "9. Створіть матрицю розміром 4x4, заповніть її випадковими дійсними числами в діапазоні від 0 до 1 та транспонуйте її.\n"
      ],
      "metadata": {
        "id": "zJmpGKbx1h-G"
      }
    },
    {
      "cell_type": "code",
      "source": [
        "matrix = np.random.randint(1, 11, size=(4, 4))\n",
        "print(matrix, \"\\n\")\n",
        "print(matrix.T)"
      ],
      "metadata": {
        "colab": {
          "base_uri": "https://localhost:8080/"
        },
        "id": "AIBLxzij0wu-",
        "outputId": "9cc543be-a2fd-4789-f674-736b1d2353f4"
      },
      "execution_count": 33,
      "outputs": [
        {
          "output_type": "stream",
          "name": "stdout",
          "text": [
            "[[ 3  9  8  3]\n",
            " [ 4  6  8  8]\n",
            " [ 3  4  8  6]\n",
            " [ 9  7 10  5]] \n",
            "\n",
            "[[ 3  4  3  9]\n",
            " [ 9  6  4  7]\n",
            " [ 8  8  8 10]\n",
            " [ 3  8  6  5]]\n"
          ]
        }
      ]
    },
    {
      "cell_type": "markdown",
      "source": [
        "10. Створіть матрицю розміром 3x4 та вектор розміром 4, заповніть їх випадковими цілими числами в діапазоні від 1 до 10 та перемножте матрицю на вектор."
      ],
      "metadata": {
        "id": "bV_94d-w18NT"
      }
    },
    {
      "cell_type": "code",
      "source": [
        "matrix = np.random.randint(1, 11, size=(3, 4))\n",
        "print(\"Matrix:\\n\", matrix)\n",
        "vector = np.random.randint(1, 11, size=4)\n",
        "print(\"Vector:\\n\", vector)\n",
        "print(\"Result:\\n\", np.dot(matrix, vector))"
      ],
      "metadata": {
        "colab": {
          "base_uri": "https://localhost:8080/"
        },
        "id": "kvhHlRi21xlN",
        "outputId": "94fbb10b-4f00-417d-d582-eb06fecb6855"
      },
      "execution_count": 35,
      "outputs": [
        {
          "output_type": "stream",
          "name": "stdout",
          "text": [
            "Matrix:\n",
            " [[ 9  5  2  6]\n",
            " [ 4  5  2  7]\n",
            " [ 5 10  3  8]]\n",
            "Vector:\n",
            " [5 6 7 2]\n",
            "Result:\n",
            " [101  78 122]\n"
          ]
        }
      ]
    },
    {
      "cell_type": "markdown",
      "source": [
        "11. Створіть матрицю розміром 2x3 та вектор розміром 3, заповніть їх випадковими дійсними числами в діапазоні від 0 до 1 та перемножте матрицю на вектор."
      ],
      "metadata": {
        "id": "kGsEBvtx2xHR"
      }
    },
    {
      "cell_type": "code",
      "source": [
        "matrix = np.random.randint(0, 2, size=(2, 3))\n",
        "print(\"Matrix:\\n\", matrix)\n",
        "vector = np.random.randint(0, 2, size=3)\n",
        "print(\"Vector:\\n\", vector)\n",
        "print(\"Result:\\n\", np.dot(matrix, vector))"
      ],
      "metadata": {
        "colab": {
          "base_uri": "https://localhost:8080/"
        },
        "id": "rDYFt7Sn2NT6",
        "outputId": "fdb8a1c7-c8a6-441a-d10e-28d88eec37e3"
      },
      "execution_count": 38,
      "outputs": [
        {
          "output_type": "stream",
          "name": "stdout",
          "text": [
            "Matrix:\n",
            " [[0 1 1]\n",
            " [1 1 0]]\n",
            "Vector:\n",
            " [1 1 0]\n",
            "Result:\n",
            " [1 2]\n"
          ]
        }
      ]
    },
    {
      "cell_type": "markdown",
      "source": [
        "12. Створіть дві матриці розміром 2x2, заповніть їх випадковими цілими числами в діапазоні від 1 до 10 та виконайте їхнє поелементне множення."
      ],
      "metadata": {
        "id": "7STwxUrN3NDA"
      }
    },
    {
      "cell_type": "code",
      "source": [
        "matrix1 = np.random.randint(1, 11, size=(2, 2))\n",
        "matrix2 = np.random.randint(1, 11, size=(2, 2))\n",
        "\n",
        "print(\"Matrix 1:\\n\", matrix1)\n",
        "print(\"Matrix 2:\\n\", matrix2)\n",
        "\n",
        "result = matrix1 * matrix2\n",
        "\n",
        "print(\"Result:\\n\", result)"
      ],
      "metadata": {
        "colab": {
          "base_uri": "https://localhost:8080/"
        },
        "id": "_jgiAn083RB9",
        "outputId": "f68a60d6-f412-47ca-a373-ba7612bda48e"
      },
      "execution_count": 39,
      "outputs": [
        {
          "output_type": "stream",
          "name": "stdout",
          "text": [
            "Matrix 1:\n",
            " [[6 6]\n",
            " [7 1]]\n",
            "Matrix 2:\n",
            " [[6 7]\n",
            " [8 1]]\n",
            "Result:\n",
            " [[36 42]\n",
            " [56  1]]\n"
          ]
        }
      ]
    },
    {
      "cell_type": "markdown",
      "source": [
        "13. Створіть дві матриці розміром 2x2, заповніть їх випадковими цілими числами в діапазоні від 1 до 10 та знайдіть їх добуток."
      ],
      "metadata": {
        "id": "i8nZ2UEB30Qr"
      }
    },
    {
      "cell_type": "code",
      "source": [
        "matrix1 = np.random.randint(1, 11, size=(2, 2))\n",
        "matrix2 = np.random.randint(1, 11, size=(2, 2))\n",
        "\n",
        "print(\"Matrix 1:\\n\", matrix1)\n",
        "print(\"Matrix 2:\\n\", matrix2)\n",
        "\n",
        "result = np.dot(matrix1, matrix2)\n",
        "\n",
        "print(\"Result:\\n\", result)"
      ],
      "metadata": {
        "colab": {
          "base_uri": "https://localhost:8080/"
        },
        "id": "CV2Y2V6932O9",
        "outputId": "ac4448ff-0be0-4e13-c4b1-a19f0ab881a0"
      },
      "execution_count": 40,
      "outputs": [
        {
          "output_type": "stream",
          "name": "stdout",
          "text": [
            "Matrix 1:\n",
            " [[2 9]\n",
            " [2 8]]\n",
            "Matrix 2:\n",
            " [[5 7]\n",
            " [5 4]]\n",
            "Result:\n",
            " [[55 50]\n",
            " [50 46]]\n"
          ]
        }
      ]
    },
    {
      "cell_type": "markdown",
      "source": [
        "14. Створіть матрицю розміром 5x5, заповніть її випадковими цілими числами в діапазоні від 1 до 100 та знайдіть суму елементів матриці."
      ],
      "metadata": {
        "id": "UO8Iw0zI4bek"
      }
    },
    {
      "cell_type": "code",
      "source": [
        "matrix = np.random.randint(1, 101, size=(5, 5))\n",
        "print(\"Matrix:\\n\", matrix)\n",
        "result = np.sum(matrix)\n",
        "\n",
        "print(\"Result:\\n\", result)"
      ],
      "metadata": {
        "colab": {
          "base_uri": "https://localhost:8080/"
        },
        "id": "HHTDPwSO4hk7",
        "outputId": "ba3b7843-0d24-44b5-c455-7a2ff75db9fa"
      },
      "execution_count": 42,
      "outputs": [
        {
          "output_type": "stream",
          "name": "stdout",
          "text": [
            "Matrix:\n",
            " [[ 93  63  65  77  67]\n",
            " [ 38  17  44 100  32]\n",
            " [ 36  71  13  99  87]\n",
            " [  4  19  54  97  27]\n",
            " [ 70   2  12  25  14]]\n",
            "Result:\n",
            " 1226\n"
          ]
        }
      ]
    },
    {
      "cell_type": "markdown",
      "source": [
        "15. Створіть дві матриці розміром 4x4, заповніть їх випадковими цілими числами в діапазоні від 1 до 10 та знайдіть їхню різницю."
      ],
      "metadata": {
        "id": "eM43ZwLg5Axl"
      }
    },
    {
      "cell_type": "code",
      "source": [
        "matrix1 = np.random.randint(1, 11, size=(4, 4))\n",
        "matrix2 = np.random.randint(1, 11, size=(4, 4))\n",
        "\n",
        "print(\"Matrix 1:\\n\", matrix1)\n",
        "print(\"Matrix 2:\\n\", matrix2)\n",
        "\n",
        "result = matrix1 - matrix2\n",
        "\n",
        "print(\"Result:\\n\", result)"
      ],
      "metadata": {
        "colab": {
          "base_uri": "https://localhost:8080/"
        },
        "id": "AHVoCKMW5EIZ",
        "outputId": "9e53919e-e089-4008-8764-5f7d20ab0020"
      },
      "execution_count": 44,
      "outputs": [
        {
          "output_type": "stream",
          "name": "stdout",
          "text": [
            "Matrix 1:\n",
            " [[4 5 8 6]\n",
            " [7 9 3 6]\n",
            " [9 8 8 9]\n",
            " [2 7 6 9]]\n",
            "Matrix 2:\n",
            " [[ 4  4  3  6]\n",
            " [ 5  3  7  9]\n",
            " [ 7  4  7  5]\n",
            " [10  3  2  4]]\n",
            "Result:\n",
            " [[ 0  1  5  0]\n",
            " [ 2  6 -4 -3]\n",
            " [ 2  4  1  4]\n",
            " [-8  4  4  5]]\n"
          ]
        }
      ]
    },
    {
      "cell_type": "markdown",
      "source": [
        "16. Створіть матрицю розміром 3x3, заповніть її випадковими дійсними числами в діапазоні від 0 до 1 та знайдіть вектор-стовпчик, що містить суму елементів кожного рядка матриці."
      ],
      "metadata": {
        "id": "zWOIJypK52D1"
      }
    },
    {
      "cell_type": "code",
      "source": [
        "matrix = np.random.randint(0, 2, size=(3, 3))\n",
        "print(\"Matrix:\\n\", matrix)\n",
        "row_sum = np.sum(matrix, axis=1)\n",
        "\n",
        "result = row_sum.reshape(3, 1)\n",
        "\n",
        "print(\"Result:\\n\", result)"
      ],
      "metadata": {
        "colab": {
          "base_uri": "https://localhost:8080/"
        },
        "id": "ZmLzI6Aw4thS",
        "outputId": "62f63a57-93e4-4460-e8e5-7d1c568ee2b3"
      },
      "execution_count": 48,
      "outputs": [
        {
          "output_type": "stream",
          "name": "stdout",
          "text": [
            "Matrix:\n",
            " [[0 0 1]\n",
            " [1 1 1]\n",
            " [1 0 1]]\n",
            "Result:\n",
            " [[1]\n",
            " [3]\n",
            " [2]]\n"
          ]
        }
      ]
    },
    {
      "cell_type": "markdown",
      "source": [
        "17. Створіть матрицю розміром 3x4 з довільними цілими числами і створінь матрицю з квадратами цих чисел."
      ],
      "metadata": {
        "id": "Zq4pcgeW7Pgz"
      }
    },
    {
      "cell_type": "code",
      "source": [
        "matrix = np.random.randint(2, 11, size=(3, 4))\n",
        "print(\"Matrix:\\n\", matrix)\n",
        "\n",
        "result = np.power(matrix, 2)\n",
        "\n",
        "print(\"Result:\\n\", result)"
      ],
      "metadata": {
        "colab": {
          "base_uri": "https://localhost:8080/"
        },
        "id": "yu6scoJ07UcS",
        "outputId": "009b1746-96a0-4480-fff8-6ba82972ba64"
      },
      "execution_count": 50,
      "outputs": [
        {
          "output_type": "stream",
          "name": "stdout",
          "text": [
            "Matrix:\n",
            " [[ 9 10  6  4]\n",
            " [ 4  3  4  4]\n",
            " [ 6  2 10  7]]\n",
            "Result:\n",
            " [[ 81 100  36  16]\n",
            " [ 16   9  16  16]\n",
            " [ 36   4 100  49]]\n"
          ]
        }
      ]
    },
    {
      "cell_type": "markdown",
      "source": [
        "18. Створіть вектор розміром 4, заповніть його випадковими цілими числами в діапазоні від 1 до 50 та знайдіть вектор з квадратними коренями цих чисел."
      ],
      "metadata": {
        "id": "ysChrEve8Tz5"
      }
    },
    {
      "cell_type": "code",
      "source": [
        "vector = np.random.randint(1, 51, size=4)\n",
        "print(\"Vector:\\n\", vector)\n",
        "\n",
        "result = np.sqrt(vector)\n",
        "\n",
        "print(\"Result:\\n\", result)"
      ],
      "metadata": {
        "colab": {
          "base_uri": "https://localhost:8080/"
        },
        "id": "uQXh36xY8XTw",
        "outputId": "2580452b-2a8a-41f8-8f51-557f7a49dd8f"
      },
      "execution_count": 51,
      "outputs": [
        {
          "output_type": "stream",
          "name": "stdout",
          "text": [
            "Vector:\n",
            " [42 46 12 36]\n",
            "Result:\n",
            " [6.4807407  6.78232998 3.46410162 6.        ]\n"
          ]
        }
      ]
    }
  ]
}
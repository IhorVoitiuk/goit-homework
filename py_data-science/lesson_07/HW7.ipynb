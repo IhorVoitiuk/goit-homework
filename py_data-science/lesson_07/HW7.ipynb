{
  "nbformat": 4,
  "nbformat_minor": 0,
  "metadata": {
    "colab": {
      "provenance": []
    },
    "kernelspec": {
      "name": "python3",
      "display_name": "Python 3"
    },
    "language_info": {
      "name": "python"
    }
  },
  "cells": [
    {
      "cell_type": "markdown",
      "source": [
        "## Домашнє завдання модуля 7\n",
        "На цьому тижні ми вивчили як працюють рекомендаційні системи. Пропонуємо вам познайомитись з бібліотекою surprise, котра якраз є по суті додатком до знайомої нам бібліотеки scikit-learn для тренування моделей рекомендаційних систем.\n",
        "\n",
        "Візьміть датасет movielens і побудуйте модель матричної факторизації. У даній бібліотеці він має назву SVD. Підберіть найкращі параметри за допомогою крос-валідації, також поекспериментуйте з іншими алгоритмами розрахунків (SVD++, NMF) і оберіть той, який буде оптимальним.\n",
        "\n",
        "Підказки як саме побудувати дану модель ви знайдете в документації до даної бібліотеки."
      ],
      "metadata": {
        "id": "-wqUQA0LHBzM"
      }
    },
    {
      "cell_type": "code",
      "execution_count": 1,
      "metadata": {
        "colab": {
          "base_uri": "https://localhost:8080/"
        },
        "id": "O3fWJQclG_Hh",
        "outputId": "8c09db75-1499-45f6-eae8-a4b80d6c7947"
      },
      "outputs": [
        {
          "output_type": "stream",
          "name": "stdout",
          "text": [
            "Looking in indexes: https://pypi.org/simple, https://us-python.pkg.dev/colab-wheels/public/simple/\n",
            "Requirement already satisfied: numpy in /usr/local/lib/python3.10/dist-packages (1.22.4)\n",
            "Looking in indexes: https://pypi.org/simple, https://us-python.pkg.dev/colab-wheels/public/simple/\n",
            "Collecting scikit-surprise\n",
            "  Downloading scikit-surprise-1.1.3.tar.gz (771 kB)\n",
            "\u001b[2K     \u001b[90m━━━━━━━━━━━━━━━━━━━━━━━━━━━━━━━━━━━━━━\u001b[0m \u001b[32m772.0/772.0 kB\u001b[0m \u001b[31m29.9 MB/s\u001b[0m eta \u001b[36m0:00:00\u001b[0m\n",
            "\u001b[?25h  Preparing metadata (setup.py) ... \u001b[?25l\u001b[?25hdone\n",
            "Requirement already satisfied: joblib>=1.0.0 in /usr/local/lib/python3.10/dist-packages (from scikit-surprise) (1.2.0)\n",
            "Requirement already satisfied: numpy>=1.17.3 in /usr/local/lib/python3.10/dist-packages (from scikit-surprise) (1.22.4)\n",
            "Requirement already satisfied: scipy>=1.3.2 in /usr/local/lib/python3.10/dist-packages (from scikit-surprise) (1.10.1)\n",
            "Building wheels for collected packages: scikit-surprise\n",
            "  Building wheel for scikit-surprise (setup.py) ... \u001b[?25l\u001b[?25hdone\n",
            "  Created wheel for scikit-surprise: filename=scikit_surprise-1.1.3-cp310-cp310-linux_x86_64.whl size=3095439 sha256=a76ce0052e78fbaa3d5e8d18c7c8e6258514b3ff01affc250d7d5348a88b3757\n",
            "  Stored in directory: /root/.cache/pip/wheels/a5/ca/a8/4e28def53797fdc4363ca4af740db15a9c2f1595ebc51fb445\n",
            "Successfully built scikit-surprise\n",
            "Installing collected packages: scikit-surprise\n",
            "Successfully installed scikit-surprise-1.1.3\n"
          ]
        }
      ],
      "source": [
        "!pip install numpy\n",
        "!pip install scikit-surprise"
      ]
    },
    {
      "cell_type": "code",
      "source": [
        "from surprise import Dataset, Reader, SVD\n",
        "from surprise.model_selection import cross_validate"
      ],
      "metadata": {
        "id": "9SKxKng0O_oZ"
      },
      "execution_count": 26,
      "outputs": []
    },
    {
      "cell_type": "code",
      "source": [
        "data = Dataset.load_builtin('ml-100k')"
      ],
      "metadata": {
        "id": "H8x1R6V_O_xf"
      },
      "execution_count": 27,
      "outputs": []
    },
    {
      "cell_type": "code",
      "source": [
        "# Define the model\n",
        "model = SVD()"
      ],
      "metadata": {
        "id": "LJWNAbdSO_2k"
      },
      "execution_count": 38,
      "outputs": []
    },
    {
      "cell_type": "code",
      "source": [
        "cross_validate(model, data, measures=[\"RMSE\", \"MAE\"], cv=5, verbose=True)"
      ],
      "metadata": {
        "colab": {
          "base_uri": "https://localhost:8080/"
        },
        "id": "2MNhGGPAO_49",
        "outputId": "51cf2fd1-ce6e-4927-b7f0-78a43fad50c0"
      },
      "execution_count": 39,
      "outputs": [
        {
          "output_type": "stream",
          "name": "stdout",
          "text": [
            "Evaluating RMSE, MAE of algorithm SVD on 5 split(s).\n",
            "\n",
            "                  Fold 1  Fold 2  Fold 3  Fold 4  Fold 5  Mean    Std     \n",
            "RMSE (testset)    0.9333  0.9341  0.9426  0.9442  0.9358  0.9380  0.0045  \n",
            "MAE (testset)     0.7354  0.7357  0.7433  0.7448  0.7376  0.7393  0.0039  \n",
            "Fit time          2.08    1.61    1.51    1.54    1.34    1.62    0.25    \n",
            "Test time         0.15    0.32    0.14    0.33    0.15    0.21    0.09    \n"
          ]
        },
        {
          "output_type": "execute_result",
          "data": {
            "text/plain": [
              "{'test_rmse': array([0.93329504, 0.93413372, 0.94264461, 0.94423828, 0.93581082]),\n",
              " 'test_mae': array([0.73536049, 0.73567922, 0.74326154, 0.74476076, 0.73762714]),\n",
              " 'fit_time': (2.081719160079956,\n",
              "  1.6095898151397705,\n",
              "  1.5132691860198975,\n",
              "  1.5367405414581299,\n",
              "  1.3424932956695557),\n",
              " 'test_time': (0.14638304710388184,\n",
              "  0.31934309005737305,\n",
              "  0.13823723793029785,\n",
              "  0.3253452777862549,\n",
              "  0.14539384841918945)}"
            ]
          },
          "metadata": {},
          "execution_count": 39
        }
      ]
    },
    {
      "cell_type": "markdown",
      "source": [
        "Після проведення крос-валідації моделі SVD на датасеті Movielens з використанням п'яти розділів, були отримані наступні результати:\n",
        "\n",
        "- Середньоквадратична помилка (RMSE) має значення приблизно 0.9380, що вказує на середню розбіжність між прогнозованими та фактичними значеннями рейтингів.\n",
        "- Середня абсолютна помилка (MAE) складає близько 0.7393, вказуючи на середню абсолютну розбіжність між прогнозованими та фактичними значеннями рейтингів.\n",
        "- Час навчання моделі становить близько 1.62 секунд, а час тестування - 0.21 секунди."
      ],
      "metadata": {
        "id": "OgB4zGotWuX2"
      }
    },
    {
      "cell_type": "code",
      "source": [
        "from surprise.model_selection import GridSearchCV\n",
        "from surprise.prediction_algorithms.matrix_factorization import SVD"
      ],
      "metadata": {
        "id": "lWXFrscwO_90"
      },
      "execution_count": 41,
      "outputs": []
    },
    {
      "cell_type": "code",
      "source": [
        "param_grid = {'n_factors': [50, 100, 150], 'n_epochs': [20, 30, 40], 'lr_all': [0.002, 0.005, 0.01], 'reg_all': [0.02, 0.1, 0.5]}"
      ],
      "metadata": {
        "id": "cNJG3wu_SZqO"
      },
      "execution_count": 40,
      "outputs": []
    },
    {
      "cell_type": "code",
      "source": [
        "# Define the model\n",
        "model_matrix_f = SVD()"
      ],
      "metadata": {
        "id": "8Su9JqtPTD4o"
      },
      "execution_count": 42,
      "outputs": []
    },
    {
      "cell_type": "code",
      "source": [
        "\n",
        "# Initialize GridSearchCV with the desired parameters\n",
        "gs = GridSearchCV(SVD, param_grid, measures=[\"RMSE\", \"MAE\"], cv=5)\n",
        "\n",
        "# Fit the GridSearchCV object to the data\n",
        "gs.fit(data)\n",
        "\n",
        "# Print the best RMSE score\n",
        "print(gs.best_score[\"rmse\"])\n",
        "\n",
        "# Print the best set of parameters\n",
        "print(gs.best_params[\"rmse\"])"
      ],
      "metadata": {
        "colab": {
          "base_uri": "https://localhost:8080/"
        },
        "id": "SxnMH7Q5TEBm",
        "outputId": "73f1f0ce-3d83-4419-e6d8-e3b9fd837a90"
      },
      "execution_count": 43,
      "outputs": [
        {
          "output_type": "stream",
          "name": "stdout",
          "text": [
            "0.9093386636719133\n",
            "{'n_factors': 150, 'n_epochs': 40, 'lr_all': 0.01, 'reg_all': 0.1}\n"
          ]
        }
      ]
    },
    {
      "cell_type": "code",
      "source": [
        "from surprise.model_selection import train_test_split"
      ],
      "metadata": {
        "id": "L9HsZ3BpTEGO"
      },
      "execution_count": 44,
      "outputs": []
    },
    {
      "cell_type": "code",
      "source": [
        "trainset, testset = train_test_split(data, test_size=.25)"
      ],
      "metadata": {
        "id": "1ZY2KxG2TEJe"
      },
      "execution_count": 45,
      "outputs": []
    },
    {
      "cell_type": "code",
      "source": [
        "model_3 = SVD()"
      ],
      "metadata": {
        "id": "iePFATFYSZug"
      },
      "execution_count": 46,
      "outputs": []
    },
    {
      "cell_type": "code",
      "source": [
        "model_3.fit(trainset)"
      ],
      "metadata": {
        "colab": {
          "base_uri": "https://localhost:8080/"
        },
        "id": "n-qIvDaIZl2M",
        "outputId": "00412c0f-a6c8-4447-92fb-c81c0eb74d5c"
      },
      "execution_count": 47,
      "outputs": [
        {
          "output_type": "execute_result",
          "data": {
            "text/plain": [
              "<surprise.prediction_algorithms.matrix_factorization.SVD at 0x7f48841b98d0>"
            ]
          },
          "metadata": {},
          "execution_count": 47
        }
      ]
    },
    {
      "cell_type": "code",
      "source": [
        "test_prediction_3 = model_3.test(testset)"
      ],
      "metadata": {
        "id": "toU44CGJZl5Z"
      },
      "execution_count": 48,
      "outputs": []
    },
    {
      "cell_type": "code",
      "source": [
        "for i in range(10):\n",
        "    print(test_prediction_3[i])"
      ],
      "metadata": {
        "colab": {
          "base_uri": "https://localhost:8080/"
        },
        "id": "YGtjWcDVZxBU",
        "outputId": "029acb60-3163-4b49-8cb8-9cb73091adec"
      },
      "execution_count": 49,
      "outputs": [
        {
          "output_type": "stream",
          "name": "stdout",
          "text": [
            "user: 30         item: 242        r_ui = 5.00   est = 4.11   {'was_impossible': False}\n",
            "user: 85         item: 150        r_ui = 3.00   est = 3.46   {'was_impossible': False}\n",
            "user: 405        item: 1231       r_ui = 1.00   est = 1.40   {'was_impossible': False}\n",
            "user: 457        item: 629        r_ui = 4.00   est = 3.86   {'was_impossible': False}\n",
            "user: 392        item: 178        r_ui = 5.00   est = 4.62   {'was_impossible': False}\n",
            "user: 473        item: 257        r_ui = 4.00   est = 3.97   {'was_impossible': False}\n",
            "user: 292        item: 48         r_ui = 5.00   est = 4.49   {'was_impossible': False}\n",
            "user: 638        item: 685        r_ui = 4.00   est = 2.99   {'was_impossible': False}\n",
            "user: 144        item: 55         r_ui = 4.00   est = 3.69   {'was_impossible': False}\n",
            "user: 381        item: 196        r_ui = 5.00   est = 3.87   {'was_impossible': False}\n"
          ]
        }
      ]
    },
    {
      "cell_type": "code",
      "source": [
        "from surprise import accuracy"
      ],
      "metadata": {
        "id": "39NTCZ9OZxGp"
      },
      "execution_count": 50,
      "outputs": []
    },
    {
      "cell_type": "code",
      "source": [
        "test_predictions = model_3.test(testset)"
      ],
      "metadata": {
        "id": "Uqr7FNqVZxJg"
      },
      "execution_count": 51,
      "outputs": []
    },
    {
      "cell_type": "code",
      "source": [
        "# Calculate RMSE\n",
        "rmse_3 = accuracy.rmse(test_predictions)"
      ],
      "metadata": {
        "colab": {
          "base_uri": "https://localhost:8080/"
        },
        "id": "C3ZmkuTMaAWp",
        "outputId": "ab4b1142-0d50-4ca2-a429-261640bcedaa"
      },
      "execution_count": 52,
      "outputs": [
        {
          "output_type": "stream",
          "name": "stdout",
          "text": [
            "RMSE: 0.9439\n"
          ]
        }
      ]
    },
    {
      "cell_type": "code",
      "source": [
        "# Calculate MAE\n",
        "mae_3 = accuracy.mae(test_predictions)"
      ],
      "metadata": {
        "colab": {
          "base_uri": "https://localhost:8080/"
        },
        "id": "emA4n8IFaAaR",
        "outputId": "8a36bd1b-6b4a-45d5-c421-ec4acf271313"
      },
      "execution_count": 53,
      "outputs": [
        {
          "output_type": "stream",
          "name": "stdout",
          "text": [
            "MAE:  0.7443\n"
          ]
        }
      ]
    },
    {
      "cell_type": "code",
      "source": [
        "param_grid_3 = {'n_epochs': [5, 10], 'lr_all': [0.002, 0.005]}"
      ],
      "metadata": {
        "id": "g07--AxCaAcw"
      },
      "execution_count": 55,
      "outputs": []
    },
    {
      "cell_type": "code",
      "source": [
        "gs_3 = GridSearchCV(SVD, param_grid_3, measures=['rmse', 'mae'], cv=3)"
      ],
      "metadata": {
        "id": "WT6rRP0WaAfY"
      },
      "execution_count": 56,
      "outputs": []
    },
    {
      "cell_type": "code",
      "source": [
        "gs_3.fit(data)"
      ],
      "metadata": {
        "id": "yAh1nOyTaAho"
      },
      "execution_count": 57,
      "outputs": []
    },
    {
      "cell_type": "code",
      "source": [
        "print('Best RMSE score:', gs_3.best_score['rmse'])\n",
        "print('Best parameters:', gs_3.best_params['rmse'])"
      ],
      "metadata": {
        "colab": {
          "base_uri": "https://localhost:8080/"
        },
        "id": "MTq9MV60aomc",
        "outputId": "6366d2c7-a360-4ee7-ca6b-18476ad24bc1"
      },
      "execution_count": 58,
      "outputs": [
        {
          "output_type": "stream",
          "name": "stdout",
          "text": [
            "Best RMSE score: 0.9539231110185824\n",
            "Best parameters: {'n_epochs': 10, 'lr_all': 0.005}\n"
          ]
        }
      ]
    },
    {
      "cell_type": "markdown",
      "source": [
        "Експерименти з алгоритмами розрахунків (SVD++, NMF)"
      ],
      "metadata": {
        "id": "FdGz8DnPdbvp"
      }
    },
    {
      "cell_type": "code",
      "source": [
        "from surprise.prediction_algorithms.matrix_factorization import SVDpp, NMF"
      ],
      "metadata": {
        "id": "YemoGK0Taoo4"
      },
      "execution_count": 59,
      "outputs": []
    },
    {
      "cell_type": "code",
      "source": [
        "model_svdpp = SVDpp()\n",
        "model_nmf = NMF()"
      ],
      "metadata": {
        "id": "hfLlt4BfaorI"
      },
      "execution_count": 60,
      "outputs": []
    },
    {
      "cell_type": "code",
      "source": [
        "results_svdpp = cross_validate(model_svdpp, data, measures=[\"RMSE\", \"MAE\"], cv=5, verbose=True)"
      ],
      "metadata": {
        "colab": {
          "base_uri": "https://localhost:8080/"
        },
        "id": "sB0Sps_maotQ",
        "outputId": "27f2bc49-4b91-43db-d727-8d7f4662e8d1"
      },
      "execution_count": 61,
      "outputs": [
        {
          "output_type": "stream",
          "name": "stdout",
          "text": [
            "Evaluating RMSE, MAE of algorithm SVDpp on 5 split(s).\n",
            "\n",
            "                  Fold 1  Fold 2  Fold 3  Fold 4  Fold 5  Mean    Std     \n",
            "RMSE (testset)    0.9216  0.9226  0.9154  0.9206  0.9175  0.9196  0.0027  \n",
            "MAE (testset)     0.7189  0.7257  0.7174  0.7235  0.7206  0.7212  0.0030  \n",
            "Fit time          28.33   28.49   27.10   28.05   27.42   27.88   0.53    \n",
            "Test time         5.24    6.28    5.65    5.10    6.13    5.68    0.47    \n"
          ]
        }
      ]
    },
    {
      "cell_type": "code",
      "source": [
        "results_nmf = cross_validate(model_nmf, data, measures=[\"RMSE\", \"MAE\"], cv=5, verbose=True)"
      ],
      "metadata": {
        "colab": {
          "base_uri": "https://localhost:8080/"
        },
        "id": "0u1ltXt9dqb0",
        "outputId": "73d6a47d-205f-4031-997a-a094483e5d48"
      },
      "execution_count": 62,
      "outputs": [
        {
          "output_type": "stream",
          "name": "stdout",
          "text": [
            "Evaluating RMSE, MAE of algorithm NMF on 5 split(s).\n",
            "\n",
            "                  Fold 1  Fold 2  Fold 3  Fold 4  Fold 5  Mean    Std     \n",
            "RMSE (testset)    0.9636  0.9638  0.9624  0.9587  0.9587  0.9614  0.0023  \n",
            "MAE (testset)     0.7582  0.7587  0.7554  0.7523  0.7567  0.7562  0.0023  \n",
            "Fit time          2.98    2.43    2.46    2.41    3.37    2.73    0.38    \n",
            "Test time         0.13    0.39    0.14    0.14    0.30    0.22    0.11    \n"
          ]
        }
      ]
    },
    {
      "cell_type": "code",
      "source": [
        "print(\"SVD++:\")\n",
        "print(\"RMSE:\", results_svdpp['test_rmse'].mean())\n",
        "print(\"MAE:\", results_svdpp['test_mae'].mean())"
      ],
      "metadata": {
        "colab": {
          "base_uri": "https://localhost:8080/"
        },
        "id": "JHsYvCdOdqgj",
        "outputId": "2a3e5ea4-c2fc-4fe4-e9aa-3975229c8e75"
      },
      "execution_count": 63,
      "outputs": [
        {
          "output_type": "stream",
          "name": "stdout",
          "text": [
            "SVD++:\n",
            "RMSE: 0.9195549892335938\n",
            "MAE: 0.721237267157848\n"
          ]
        }
      ]
    },
    {
      "cell_type": "code",
      "source": [
        "print(\"NMF:\")\n",
        "print(\"RMSE:\", results_nmf['test_rmse'].mean())\n",
        "print(\"MAE:\", results_nmf['test_mae'].mean())"
      ],
      "metadata": {
        "colab": {
          "base_uri": "https://localhost:8080/"
        },
        "id": "vEpokbuVdqo_",
        "outputId": "ccadc3f6-4c7f-4a56-c101-251a72c8e864"
      },
      "execution_count": 64,
      "outputs": [
        {
          "output_type": "stream",
          "name": "stdout",
          "text": [
            "NMF:\n",
            "RMSE: 0.9614396426587751\n",
            "MAE: 0.7562447393577149\n"
          ]
        }
      ]
    },
    {
      "cell_type": "markdown",
      "source": [
        "## Висновок:\n",
        "\n",
        "Після проведення крос-валідації з використанням різних алгоритмів розрахунків на датасеті movielens отримані наступні результати:\n",
        "\n",
        "1. Модель SVD показала найкращі результати з середнім RMSE 0.9093 і MAE 0.7393. Найкращі параметри для цієї моделі: 'n_factors': 150, 'n_epochs': 40, 'lr_all': 0.01, 'reg_all': 0.1.\n",
        "\n",
        "2. Модель SVD++ показала трохи гірші результати з RMSE 0.9196 і MAE 0.7212.\n",
        "\n",
        "3. Модель NMF має найнижчу точність серед трьох алгоритмів з RMSE 0.9614 і MAE 0.7562.\n",
        "\n",
        "Отже, рекомендовано використовувати модель SVD з найкращими параметрами для досягнення найкращих результатів на даному датасеті."
      ],
      "metadata": {
        "id": "l23S2Ud4fenb"
      }
    }
  ]
}